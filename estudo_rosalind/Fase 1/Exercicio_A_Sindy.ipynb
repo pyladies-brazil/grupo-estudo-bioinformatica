{
  "nbformat": 4,
  "nbformat_minor": 0,
  "metadata": {
    "colab": {
      "name": "Exercicio_A_Sindy.ipynb",
      "provenance": []
    },
    "kernelspec": {
      "name": "python3",
      "display_name": "Python 3"
    },
    "language_info": {
      "name": "python"
    }
  },
  "cells": [
    {
      "cell_type": "markdown",
      "metadata": {
        "id": "k6kiCHg2-U3F"
      },
      "source": [
        "# **Exercise 1: Counting DNA Nucleotides**"
      ]
    },
    {
      "cell_type": "markdown",
      "metadata": {
        "id": "Akeh2erv-aVb"
      },
      "source": [
        "**Link: http://rosalind.info/problems/dna/**\n",
        "\n",
        "**Intro:**\n",
        "\n",
        "Making up all living material, the cell is considered to be the building block of life. The nucleus, a component of most eukaryotic cells, was identified as the hub of cellular activity 150 years ago. Viewed under a light microscope, the nucleus appears only as a darker region of the cell, but as we increase magnification, we find that the nucleus is densely filled with a stew of macromolecules called chromatin. During mitosis (eukaryotic cell division), most of the chromatin condenses into long, thin strings called chromosomes. See Figure 1 for a figure of cells in different stages of mitosis.\n",
        "\n",
        "One class of the macromolecules contained in chromatin are called nucleic acids. Early 20th century research into the chemical identity of nucleic acids culminated with the conclusion that nucleic acids are polymers, or repeating chains of smaller, similarly structured molecules known as monomers. Because of their tendency to be long and thin, nucleic acid polymers are commonly called strands.\n",
        "\n",
        "The nucleic acid monomer is called a nucleotide and is used as a unit of strand length (abbreviated to nt). Each nucleotide is formed of three parts: a sugar molecule, a negatively charged ion called a phosphate, and a compound called a nucleobase (\"base\" for short). Polymerization is achieved as the sugar of one nucleotide bonds to the phosphate of the next nucleotide in the chain, which forms a sugar-phosphate backbone for the nucleic acid strand. A key point is that the nucleotides of a specific type of nucleic acid always contain the same sugar and phosphate molecules, and they differ only in their choice of base. Thus, one strand of a nucleic acid can be differentiated from another based solely on the order of its bases; this ordering of bases defines a nucleic acid's primary structure.\n",
        "\n",
        "For example, Figure 2 shows a strand of deoxyribose nucleic acid (DNA), in which the sugar is called deoxyribose, and the only four choices for nucleobases are molecules called adenine (A), cytosine (C), guanine (G), and thymine (T).\n",
        "\n",
        "For reasons we will soon see, DNA is found in all living organisms on Earth, including bacteria; it is even found in many viruses (which are often considered to be nonliving). Because of its importance, we reserve the term genome to refer to the sum total of the DNA contained in an organism's chromosomes.\n",
        "\n",
        "**Problem:**\n",
        "\n",
        "A string is simply an ordered collection of symbols selected from some alphabet and formed into a word; the length of a string is the number of symbols that it contains.\n",
        "\n",
        "An example of a length 21 DNA string (whose alphabet contains the symbols 'A', 'C', 'G', and 'T') is \"ATGCTTCAGAAAGGTCTTACG.\"\n",
        "\n",
        "**Given:** \n",
        "- A DNA string s of length at most 1000 nt.\n",
        "\n",
        "**Return:** \n",
        "- Four integers (separated by spaces) counting the respective number of times that the symbols 'A', 'C', 'G', and 'T' occur in s.\n",
        "\n",
        "**Sample Dataset:**\n",
        "\n",
        "AGCTTTTCATTCTGACTGCAACGGGCAATATGTCTCTGTGTGGATTAAAAAAAGAGTGTCTGATAGCAGC\n",
        "\n",
        "**Sample Output:**\n",
        "\n",
        "20 12 17 21"
      ]
    },
    {
      "cell_type": "markdown",
      "metadata": {
        "id": "km9uJS4KT2Mi"
      },
      "source": [
        "## **Manual and using BioPython**"
      ]
    },
    {
      "cell_type": "markdown",
      "metadata": {
        "id": "qp402cJtrst-"
      },
      "source": [
        "- Both of them (manual form and Biopython library use the same function - count() "
      ]
    },
    {
      "cell_type": "markdown",
      "metadata": {
        "id": "HG51rOujoWsC"
      },
      "source": [
        "- **From the sample:**"
      ]
    },
    {
      "cell_type": "markdown",
      "metadata": {
        "id": "O8r_9eLAtVhY"
      },
      "source": [
        "**String Formatting**\n",
        "\n",
        "```\n",
        "%s - String (or any object with a string representation, like numbers)\n",
        "\n",
        "%d - Integers\n",
        "\n",
        "%f - Floating point numbers\n",
        "\n",
        "%.<number of digits>f - Floating point numbers with a fixed amount of digits to the right of the dot.\n",
        "\n",
        "%x/%X - Integers in hex representation (lowercase/uppercase)\n",
        "\n",
        "```"
      ]
    },
    {
      "cell_type": "code",
      "metadata": {
        "colab": {
          "base_uri": "https://localhost:8080/"
        },
        "id": "ouTM3VyQk2Gi",
        "outputId": "f0a9c3f1-3aee-44f4-ddd1-c78e107fe632"
      },
      "source": [
        "# Creating the variable...\n",
        "dna = \"AGCTTTTCATTCTGACTGCAACGGGCAATATGTCTCTGTGTGGATTAAAAAAAGAGTGTCTGATAGCAGC\"\n",
        "\n",
        "# Counting the number of \"A\", \"C\", \"G\" e \"T\" in the given seq...\n",
        "a = dna.count(\"A\")\n",
        "c = dna.count(\"C\")\n",
        "g = dna.count(\"G\")\n",
        "t = dna.count(\"T\")\n",
        "print(a, c, g, t)\n",
        "print(f\"A = {a} C = {c} G = {g} T = {t}\")\n",
        "print(\"A = %d\" % a, \"C = %d\" % c, \"G = %d\" % g, \"T = %d\" % t)"
      ],
      "execution_count": null,
      "outputs": [
        {
          "output_type": "stream",
          "text": [
            "20 12 17 21\n",
            "A = 20 C = 12 G = 17 T = 21\n",
            "A = 20 C = 12 G = 17 T = 21\n"
          ],
          "name": "stdout"
        }
      ]
    },
    {
      "cell_type": "markdown",
      "metadata": {
        "id": "NwddTCy7oaKl"
      },
      "source": [
        "- **From the file:**"
      ]
    },
    {
      "cell_type": "code",
      "metadata": {
        "colab": {
          "base_uri": "https://localhost:8080/",
          "height": 154
        },
        "id": "UQDNbe97T4_G",
        "outputId": "454ef65b-94f6-4d6b-9b52-efae3aae90a0"
      },
      "source": [
        "dna = \"TGGTACGGCTTGGGCCATCGGGCATCACAGCGCCTCAATGTCCTGTTCGTTCCTGGAATAGATCCTCCCTAGTGGCCTGATATGCAGTAGTGAACTAGTTCTCACGTTGCGTTCGAAGATCTCGTTACAGTACGTCTTAGGGGGATCACGAAGCTGGTTAGCCCGATACGGTAGGTGGAGACTTACACACGTCTATACAGTCACTTCGTTCTAGGGACGCTCACGTATGCTGACCATGCAGACCGCGTGTCAGGCTGGTATCGACACGGTTGTGTGAGGTCGTACAGCACATCCAGAGAGTATTGTGACTAATAGCTAATGAGGTGGTGCTCCCCCTACACTTCTTTACGGTACTATCCTGCTTTATACGTAGGGCTACACTACTGTTAAGATATCAGTGCGCAGCTGATTGAATCCTCGATCAGGCTATACTTTCTGAGATCCCTATTGCCCCGCATGATGCGGTGCTGGACCTGTGTCCTCCTCCATCGAAGGGATTAACTTAGTGATCGTACGTGAAAAAAATTCCGACCAATTAATGCAAAACACGGTGTGTAAAAGCAAGAGTATAATCCTCGGGTTGTTAAGGTTTCCTACAATATACAGGCCTCTAAATAATGTCTGAGTGGCACTGAGTTCACAAGGAAGTGGGGAATCGAGGCCGCCAAGTGTCACGCATCGCCAAATGGCTACTAGGGCTCCTGCTGTATTACGGCAATTATATCTGGTCCATTGGAGGCACGGACACTATTCGACATCTCGGAACATAGCGAAGCGCAGCTACATGTGACACCCCGAAGTCAGAGAGATTTTGGTGAGTTGTGGTATTTGAGTCGTCCCTCCAAGGCAGGGTAAGAGGCAATCCAGATAGAAGTTACTTATTCGTTGCCACCCCCAGTATCGCGA\"\n",
        "dna"
      ],
      "execution_count": null,
      "outputs": [
        {
          "output_type": "execute_result",
          "data": {
            "application/vnd.google.colaboratory.intrinsic+json": {
              "type": "string"
            },
            "text/plain": [
              "'TGGTACGGCTTGGGCCATCGGGCATCACAGCGCCTCAATGTCCTGTTCGTTCCTGGAATAGATCCTCCCTAGTGGCCTGATATGCAGTAGTGAACTAGTTCTCACGTTGCGTTCGAAGATCTCGTTACAGTACGTCTTAGGGGGATCACGAAGCTGGTTAGCCCGATACGGTAGGTGGAGACTTACACACGTCTATACAGTCACTTCGTTCTAGGGACGCTCACGTATGCTGACCATGCAGACCGCGTGTCAGGCTGGTATCGACACGGTTGTGTGAGGTCGTACAGCACATCCAGAGAGTATTGTGACTAATAGCTAATGAGGTGGTGCTCCCCCTACACTTCTTTACGGTACTATCCTGCTTTATACGTAGGGCTACACTACTGTTAAGATATCAGTGCGCAGCTGATTGAATCCTCGATCAGGCTATACTTTCTGAGATCCCTATTGCCCCGCATGATGCGGTGCTGGACCTGTGTCCTCCTCCATCGAAGGGATTAACTTAGTGATCGTACGTGAAAAAAATTCCGACCAATTAATGCAAAACACGGTGTGTAAAAGCAAGAGTATAATCCTCGGGTTGTTAAGGTTTCCTACAATATACAGGCCTCTAAATAATGTCTGAGTGGCACTGAGTTCACAAGGAAGTGGGGAATCGAGGCCGCCAAGTGTCACGCATCGCCAAATGGCTACTAGGGCTCCTGCTGTATTACGGCAATTATATCTGGTCCATTGGAGGCACGGACACTATTCGACATCTCGGAACATAGCGAAGCGCAGCTACATGTGACACCCCGAAGTCAGAGAGATTTTGGTGAGTTGTGGTATTTGAGTCGTCCCTCCAAGGCAGGGTAAGAGGCAATCCAGATAGAAGTTACTTATTCGTTGCCACCCCCAGTATCGCGA'"
            ]
          },
          "metadata": {
            "tags": []
          },
          "execution_count": 109
        }
      ]
    },
    {
      "cell_type": "code",
      "metadata": {
        "colab": {
          "base_uri": "https://localhost:8080/"
        },
        "id": "9AlSM-o2o-3m",
        "outputId": "e71f2188-af07-4e1e-9eac-f4c4d2021fa0"
      },
      "source": [
        "# Counting the number of \"A\", \"C\", \"G\" e \"T\" in the given seq...\n",
        "a = dna.count(\"A\")\n",
        "c = dna.count(\"C\")\n",
        "g = dna.count(\"G\")\n",
        "t = dna.count(\"T\")\n",
        "print(a, c, g, t)"
      ],
      "execution_count": null,
      "outputs": [
        {
          "output_type": "stream",
          "text": [
            "224 215 231 236\n"
          ],
          "name": "stdout"
        }
      ]
    },
    {
      "cell_type": "markdown",
      "metadata": {
        "id": "1t_ypQ0tATzC"
      },
      "source": [
        "# **Exercise 2: Transcribing DNA into RNA**"
      ]
    },
    {
      "cell_type": "markdown",
      "metadata": {
        "id": "UcETXQuRAZ3R"
      },
      "source": [
        "**Link: http://rosalind.info/problems/rna/**\n",
        "\n",
        "**Intro:**\n",
        "\n",
        "In “Counting DNA Nucleotides”, we described the primary structure of a nucleic acid as a polymer of nucleotide units, and we mentioned that the omnipresent nucleic acid DNA is composed of a varied sequence of four bases.\n",
        "\n",
        "Yet a second nucleic acid exists alongside DNA in the chromatin; this molecule, which possesses a different sugar called ribose, came to be known as ribose nucleic acid, or RNA. RNA differs further from DNA in that it contains a base called uracil in place of thymine; structural differences between DNA and RNA are shown in Figure 1. Biologists initially believed that RNA was only contained in plant cells, whereas DNA was restricted to animal cells. However, this hypothesis dissipated as improved chemical methods discovered both nucleic acids in the cells of all life forms on Earth.\n",
        "\n",
        "The primary structure of DNA and RNA is so similar because the former serves as a blueprint for the creation of a special kind of RNA molecule called messenger RNA, or mRNA. mRNA is created during RNA transcription, during which a strand of DNA is used as a template for constructing a strand of RNA by copying nucleotides one at a time, where uracil is used in place of thymine.\n",
        "\n",
        "In eukaryotes, DNA remains in the nucleus, while RNA can enter the far reaches of the cell to carry out DNA's instructions. In future problems, we will examine the process and ramifications of RNA transcription in more detail.\n",
        "\n",
        "**Problem:**\n",
        "\n",
        "An RNA string is a string formed from the alphabet containing 'A', 'C', 'G', and 'U'.\n",
        "\n",
        "Given a DNA string t corresponding to a coding strand, its transcribed RNA string u is formed by replacing all occurrences of 'T' in t with 'U' in u.\n",
        "\n",
        "**Given:** \n",
        "- A DNA string t having length at most 1000 nt.\n",
        "\n",
        "**Return:** \n",
        "- The transcribed RNA string of t.\n",
        "\n",
        "**Sample Dataset:**\n",
        "\n",
        "GATGGAACTTGACTACGTAAATT\n",
        "\n",
        "**Sample Output:**\n",
        "\n",
        "GAUGGAACUUGACUACGUAAAUU\n"
      ]
    },
    {
      "cell_type": "markdown",
      "metadata": {
        "id": "wIvTpiLIqyk1"
      },
      "source": [
        "## **Manual**"
      ]
    },
    {
      "cell_type": "markdown",
      "metadata": {
        "id": "wXDQL_SfGVjE"
      },
      "source": [
        "**From the sample:**"
      ]
    },
    {
      "cell_type": "code",
      "metadata": {
        "id": "H6mnwn8zAQl1",
        "colab": {
          "base_uri": "https://localhost:8080/"
        },
        "outputId": "478a11e5-7b57-440f-e185-6bbb1b9b8b20"
      },
      "source": [
        "import re\n",
        "\n",
        "dna = \"GATGGAACTTGACTACGTAAATT\"\n",
        "\n",
        "while True:\n",
        "  if \"a\" in dna or \"A\" in dna or \"t\" in dna or \"T\" in dna or \"g\" in dna or \"G\" in dna or \"c\" in dna or \"C\" in dna and dna.isalpha():\n",
        "    rna1 = re.sub(\"[^atcgATCG]\", \"\", dna)\n",
        "    rna2 = rna1.replace(\"T\", \"U\").replace(\"t\", \"u\")\n",
        "    print(f\"The RNA sequence for the given DNA is: {rna2.upper()}\")\n",
        "    break\n",
        "  else:\n",
        "    print(\"There is something wrong in your input\")\n",
        "    dna = str(input(\"Please, try again... enter a true DNA sequence: \"))\n",
        "    continue"
      ],
      "execution_count": null,
      "outputs": [
        {
          "output_type": "stream",
          "text": [
            "The RNA sequence for the given DNA is: GAUGGAACUUGACUACGUAAAUU\n"
          ],
          "name": "stdout"
        }
      ]
    },
    {
      "cell_type": "markdown",
      "metadata": {
        "id": "GCFxhesap0DZ"
      },
      "source": [
        "- **From the file:**"
      ]
    },
    {
      "cell_type": "code",
      "metadata": {
        "colab": {
          "base_uri": "https://localhost:8080/",
          "height": 137
        },
        "id": "PbQ_ZkpWqSeJ",
        "outputId": "ee0761bb-c8c4-4d01-b059-099451799a05"
      },
      "source": [
        "dna = \"AATTGGCACTGGCGTCCATGCGGCCCCTTTCAACGGATAGCCGTCCTATCGCAAATGTTTCATTGAGTCCTCCATTCTCCGCGGGCTGCGCCCCTGGGCATCTCCCTTACCCTACGTGGCGTAGAAAGCTGTAAAGGACCAGCGGTGATTTCAATAAAAGGGCCCGGGTGTAGCAAAGCAATACCCGTCTCGTACGCTATCAAATCATTGTAATTTGATATTTCATCGGGACCCGAAGGGCTCACGACACAAACTGCCGCTGCCACAATTGTGGTGGCGACCTCCGCCCCGTCTTCAGACACCAGTTATGCTAGTCGAAAGTACCGCCAGGTATTGCGCCATAATGCGCCAGTAGTTCCATTTAAGTGATACGAGCTTACAACTAATCCCAAGCACGAGTGCATCTGTCATCCATACTAAGCTACTCCGTCAAGGGTGCTGACAACGTTGTTGATTACAGGTGTCCTAGGAACGGCCTATGGCCGGGAGGCCTACTCAGGGGAGACCTTATCAGTGACGCAATGCGAACAAGTTGTAAATACTGTCTTTCATCTCTCACAATCCCAAGAGTAAAATTCCGCTGAGCATGGTTCCATTTGACGCTAATCGGACAAGAACTGCCGTACTTCCACCACGTTTGTCTTGTGAGACTTTCGTCTCTGCAACGACATGACAGCTTCCACGGTGCATATGAACAAATATCGTTCAACGCTGACCCATCGCCAGATAGCCTCCTACCTATGCGCATGGAAGGAACTGCTCCTTCAACCGCCTACAGATATATACGACGTGCCCATCGCTGAGAGCAGTCCGCGACCACTACAATACCCCGTTCCGATTATTAACAATTAGATGTGTTGTCAGGTTCGCCCGTCCTAACGTCTGCGTTACCCCTCTTTTCAGGCCAGTATCCAGGGTGGTATGAAACCAGATGTATTATTCCTCTGGGATTAACGGGTAACGG\"\n",
        "dna"
      ],
      "execution_count": null,
      "outputs": [
        {
          "output_type": "execute_result",
          "data": {
            "application/vnd.google.colaboratory.intrinsic+json": {
              "type": "string"
            },
            "text/plain": [
              "'AATTGGCACTGGCGTCCATGCGGCCCCTTTCAACGGATAGCCGTCCTATCGCAAATGTTTCATTGAGTCCTCCATTCTCCGCGGGCTGCGCCCCTGGGCATCTCCCTTACCCTACGTGGCGTAGAAAGCTGTAAAGGACCAGCGGTGATTTCAATAAAAGGGCCCGGGTGTAGCAAAGCAATACCCGTCTCGTACGCTATCAAATCATTGTAATTTGATATTTCATCGGGACCCGAAGGGCTCACGACACAAACTGCCGCTGCCACAATTGTGGTGGCGACCTCCGCCCCGTCTTCAGACACCAGTTATGCTAGTCGAAAGTACCGCCAGGTATTGCGCCATAATGCGCCAGTAGTTCCATTTAAGTGATACGAGCTTACAACTAATCCCAAGCACGAGTGCATCTGTCATCCATACTAAGCTACTCCGTCAAGGGTGCTGACAACGTTGTTGATTACAGGTGTCCTAGGAACGGCCTATGGCCGGGAGGCCTACTCAGGGGAGACCTTATCAGTGACGCAATGCGAACAAGTTGTAAATACTGTCTTTCATCTCTCACAATCCCAAGAGTAAAATTCCGCTGAGCATGGTTCCATTTGACGCTAATCGGACAAGAACTGCCGTACTTCCACCACGTTTGTCTTGTGAGACTTTCGTCTCTGCAACGACATGACAGCTTCCACGGTGCATATGAACAAATATCGTTCAACGCTGACCCATCGCCAGATAGCCTCCTACCTATGCGCATGGAAGGAACTGCTCCTTCAACCGCCTACAGATATATACGACGTGCCCATCGCTGAGAGCAGTCCGCGACCACTACAATACCCCGTTCCGATTATTAACAATTAGATGTGTTGTCAGGTTCGCCCGTCCTAACGTCTGCGTTACCCCTCTTTTCAGGCCAGTATCCAGGGTGGTATGAAACCAGATGTATTATTCCTCTGGGATTAACGGGTAACGG'"
            ]
          },
          "metadata": {
            "tags": []
          },
          "execution_count": 111
        }
      ]
    },
    {
      "cell_type": "code",
      "metadata": {
        "colab": {
          "base_uri": "https://localhost:8080/"
        },
        "id": "nOpr4QJFpzZs",
        "outputId": "8be7781a-3830-4b62-c558-0d32a9878f4b"
      },
      "source": [
        "import re\n",
        "\n",
        "while True:\n",
        "  if \"a\" in dna or \"A\" in dna or \"t\" in dna or \"T\" in dna or \"g\" in dna or \"G\" in dna or \"c\" in dna or \"C\" in dna and dna.isalpha():\n",
        "    rna1 = re.sub(\"[^atcgATCG]\", \"\", dna)\n",
        "    rna2 = rna1.replace(\"T\", \"U\").replace(\"t\", \"u\")\n",
        "    print(rna2.upper())\n",
        "    break\n",
        "  else:\n",
        "    print(\"There is something wrong in your input\")\n",
        "    dna = str(input(\"Please, try again... enter a true DNA sequence: \"))\n",
        "    continue"
      ],
      "execution_count": null,
      "outputs": [
        {
          "output_type": "stream",
          "text": [
            "AAUUGGCACUGGCGUCCAUGCGGCCCCUUUCAACGGAUAGCCGUCCUAUCGCAAAUGUUUCAUUGAGUCCUCCAUUCUCCGCGGGCUGCGCCCCUGGGCAUCUCCCUUACCCUACGUGGCGUAGAAAGCUGUAAAGGACCAGCGGUGAUUUCAAUAAAAGGGCCCGGGUGUAGCAAAGCAAUACCCGUCUCGUACGCUAUCAAAUCAUUGUAAUUUGAUAUUUCAUCGGGACCCGAAGGGCUCACGACACAAACUGCCGCUGCCACAAUUGUGGUGGCGACCUCCGCCCCGUCUUCAGACACCAGUUAUGCUAGUCGAAAGUACCGCCAGGUAUUGCGCCAUAAUGCGCCAGUAGUUCCAUUUAAGUGAUACGAGCUUACAACUAAUCCCAAGCACGAGUGCAUCUGUCAUCCAUACUAAGCUACUCCGUCAAGGGUGCUGACAACGUUGUUGAUUACAGGUGUCCUAGGAACGGCCUAUGGCCGGGAGGCCUACUCAGGGGAGACCUUAUCAGUGACGCAAUGCGAACAAGUUGUAAAUACUGUCUUUCAUCUCUCACAAUCCCAAGAGUAAAAUUCCGCUGAGCAUGGUUCCAUUUGACGCUAAUCGGACAAGAACUGCCGUACUUCCACCACGUUUGUCUUGUGAGACUUUCGUCUCUGCAACGACAUGACAGCUUCCACGGUGCAUAUGAACAAAUAUCGUUCAACGCUGACCCAUCGCCAGAUAGCCUCCUACCUAUGCGCAUGGAAGGAACUGCUCCUUCAACCGCCUACAGAUAUAUACGACGUGCCCAUCGCUGAGAGCAGUCCGCGACCACUACAAUACCCCGUUCCGAUUAUUAACAAUUAGAUGUGUUGUCAGGUUCGCCCGUCCUAACGUCUGCGUUACCCCUCUUUUCAGGCCAGUAUCCAGGGUGGUAUGAAACCAGAUGUAUUAUUCCUCUGGGAUUAACGGGUAACGG\n"
          ],
          "name": "stdout"
        }
      ]
    },
    {
      "cell_type": "markdown",
      "metadata": {
        "id": "u9hMt-sJqrFP"
      },
      "source": [
        "## **Using Biopython**"
      ]
    },
    {
      "cell_type": "code",
      "metadata": {
        "colab": {
          "base_uri": "https://localhost:8080/"
        },
        "id": "RGVMw7hHsRq5",
        "outputId": "c9130743-316b-478f-a70f-f115e1648f54"
      },
      "source": [
        "# Instalando as instâncias necessárias...\n",
        "!pip install biopython\n",
        "from Bio.Seq import Seq"
      ],
      "execution_count": null,
      "outputs": [
        {
          "output_type": "stream",
          "text": [
            "Requirement already satisfied: biopython in /usr/local/lib/python3.7/dist-packages (1.78)\n",
            "Requirement already satisfied: numpy in /usr/local/lib/python3.7/dist-packages (from biopython) (1.19.5)\n"
          ],
          "name": "stdout"
        }
      ]
    },
    {
      "cell_type": "markdown",
      "metadata": {
        "id": "2j9AF-85s9eq"
      },
      "source": [
        "- **From the sample**"
      ]
    },
    {
      "cell_type": "code",
      "metadata": {
        "colab": {
          "base_uri": "https://localhost:8080/"
        },
        "id": "ZKAZq3xxsU6X",
        "outputId": "bd82c32a-58b3-48b6-95fe-5bc321f893ac"
      },
      "source": [
        "# Criando a variável...\n",
        "dna = Seq(\"GATGGAACTTGACTACGTAAATT\")\n",
        "dna"
      ],
      "execution_count": null,
      "outputs": [
        {
          "output_type": "execute_result",
          "data": {
            "text/plain": [
              "Seq('GATGGAACTTGACTACGTAAATT')"
            ]
          },
          "metadata": {
            "tags": []
          },
          "execution_count": 105
        }
      ]
    },
    {
      "cell_type": "code",
      "metadata": {
        "colab": {
          "base_uri": "https://localhost:8080/"
        },
        "id": "peEdk_uEqvby",
        "outputId": "d4250767-e640-4396-f642-2e731b059db3"
      },
      "source": [
        "# Fazendo a transcrição num único passo...\n",
        "dna = template_dna.transcribe()\n",
        "print(rna)"
      ],
      "execution_count": null,
      "outputs": [
        {
          "output_type": "stream",
          "text": [
            "GAUGGAACUUGACUACGUAAAUU\n"
          ],
          "name": "stdout"
        }
      ]
    },
    {
      "cell_type": "markdown",
      "metadata": {
        "id": "b64XLcoMtApq"
      },
      "source": [
        "- **From the file**"
      ]
    },
    {
      "cell_type": "code",
      "metadata": {
        "colab": {
          "base_uri": "https://localhost:8080/"
        },
        "id": "Bgpj6XA8tFmE",
        "outputId": "dbd8398d-1ccd-42a0-8a5f-19de74c3cc78"
      },
      "source": [
        "# Criando a variável...\n",
        "dna = Seq(\"AATTGGCACTGGCGTCCATGCGGCCCCTTTCAACGGATAGCCGTCCTATCGCAAATGTTTCATTGAGTCCTCCATTCTCCGCGGGCTGCGCCCCTGGGCATCTCCCTTACCCTACGTGGCGTAGAAAGCTGTAAAGGACCAGCGGTGATTTCAATAAAAGGGCCCGGGTGTAGCAAAGCAATACCCGTCTCGTACGCTATCAAATCATTGTAATTTGATATTTCATCGGGACCCGAAGGGCTCACGACACAAACTGCCGCTGCCACAATTGTGGTGGCGACCTCCGCCCCGTCTTCAGACACCAGTTATGCTAGTCGAAAGTACCGCCAGGTATTGCGCCATAATGCGCCAGTAGTTCCATTTAAGTGATACGAGCTTACAACTAATCCCAAGCACGAGTGCATCTGTCATCCATACTAAGCTACTCCGTCAAGGGTGCTGACAACGTTGTTGATTACAGGTGTCCTAGGAACGGCCTATGGCCGGGAGGCCTACTCAGGGGAGACCTTATCAGTGACGCAATGCGAACAAGTTGTAAATACTGTCTTTCATCTCTCACAATCCCAAGAGTAAAATTCCGCTGAGCATGGTTCCATTTGACGCTAATCGGACAAGAACTGCCGTACTTCCACCACGTTTGTCTTGTGAGACTTTCGTCTCTGCAACGACATGACAGCTTCCACGGTGCATATGAACAAATATCGTTCAACGCTGACCCATCGCCAGATAGCCTCCTACCTATGCGCATGGAAGGAACTGCTCCTTCAACCGCCTACAGATATATACGACGTGCCCATCGCTGAGAGCAGTCCGCGACCACTACAATACCCCGTTCCGATTATTAACAATTAGATGTGTTGTCAGGTTCGCCCGTCCTAACGTCTGCGTTACCCCTCTTTTCAGGCCAGTATCCAGGGTGGTATGAAACCAGATGTATTATTCCTCTGGGATTAACGGGTAACGG\")\n",
        "dna"
      ],
      "execution_count": null,
      "outputs": [
        {
          "output_type": "execute_result",
          "data": {
            "text/plain": [
              "Seq('AATTGGCACTGGCGTCCATGCGGCCCCTTTCAACGGATAGCCGTCCTATCGCAA...CGG')"
            ]
          },
          "metadata": {
            "tags": []
          },
          "execution_count": 123
        }
      ]
    },
    {
      "cell_type": "code",
      "metadata": {
        "colab": {
          "base_uri": "https://localhost:8080/"
        },
        "id": "cMHGV922tFmO",
        "outputId": "02c9e4cc-01c4-42f2-a85a-50d2636859e3"
      },
      "source": [
        "# Fazendo a transcrição num único passo...\n",
        "rna = dna.transcribe()\n",
        "print(rna)"
      ],
      "execution_count": null,
      "outputs": [
        {
          "output_type": "stream",
          "text": [
            "AAUUGGCACUGGCGUCCAUGCGGCCCCUUUCAACGGAUAGCCGUCCUAUCGCAAAUGUUUCAUUGAGUCCUCCAUUCUCCGCGGGCUGCGCCCCUGGGCAUCUCCCUUACCCUACGUGGCGUAGAAAGCUGUAAAGGACCAGCGGUGAUUUCAAUAAAAGGGCCCGGGUGUAGCAAAGCAAUACCCGUCUCGUACGCUAUCAAAUCAUUGUAAUUUGAUAUUUCAUCGGGACCCGAAGGGCUCACGACACAAACUGCCGCUGCCACAAUUGUGGUGGCGACCUCCGCCCCGUCUUCAGACACCAGUUAUGCUAGUCGAAAGUACCGCCAGGUAUUGCGCCAUAAUGCGCCAGUAGUUCCAUUUAAGUGAUACGAGCUUACAACUAAUCCCAAGCACGAGUGCAUCUGUCAUCCAUACUAAGCUACUCCGUCAAGGGUGCUGACAACGUUGUUGAUUACAGGUGUCCUAGGAACGGCCUAUGGCCGGGAGGCCUACUCAGGGGAGACCUUAUCAGUGACGCAAUGCGAACAAGUUGUAAAUACUGUCUUUCAUCUCUCACAAUCCCAAGAGUAAAAUUCCGCUGAGCAUGGUUCCAUUUGACGCUAAUCGGACAAGAACUGCCGUACUUCCACCACGUUUGUCUUGUGAGACUUUCGUCUCUGCAACGACAUGACAGCUUCCACGGUGCAUAUGAACAAAUAUCGUUCAACGCUGACCCAUCGCCAGAUAGCCUCCUACCUAUGCGCAUGGAAGGAACUGCUCCUUCAACCGCCUACAGAUAUAUACGACGUGCCCAUCGCUGAGAGCAGUCCGCGACCACUACAAUACCCCGUUCCGAUUAUUAACAAUUAGAUGUGUUGUCAGGUUCGCCCGUCCUAACGUCUGCGUUACCCCUCUUUUCAGGCCAGUAUCCAGGGUGGUAUGAAACCAGAUGUAUUAUUCCUCUGGGAUUAACGGGUAACGG\n"
          ],
          "name": "stdout"
        }
      ]
    }
  ]
}