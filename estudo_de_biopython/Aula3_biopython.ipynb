{
  "nbformat": 4,
  "nbformat_minor": 0,
  "metadata": {
    "colab": {
      "name": "Aula3_biopython.ipynb",
      "provenance": [],
      "collapsed_sections": []
    },
    "kernelspec": {
      "name": "python3",
      "display_name": "Python 3"
    },
    "language_info": {
      "name": "python"
    }
  },
  "cells": [
    {
      "cell_type": "markdown",
      "metadata": {
        "id": "U5Xo8oFjdSBR"
      },
      "source": [
        "#**Biopython**\n",
        "\n",
        "06/05/2021 - Aula 3\n",
        "\n",
        "#**Capítulo 5 - Input/Output de sequências**\n",
        "###**Tópicos abordados:** \n",
        "\n",
        "5.1:  Parsing ou reading sequências\n",
        "\n",
        "5.2: Parsing sequências de arquivos compactados\n",
        "\n",
        "5.3: Parsing sequências da rede\n",
        "\n",
        "\n",
        "Iremos discutir um pouco mais afundo o **módulo Bio.SeqIO**. O objetivo desse módulo é fornecer uma interface simples para trabalhar com diversos formatos de arquivo de sequência de maneira uniforme. Mas **ATENÇÃO**: esse módulo lida apenas com sequências que são **objetos SeqRecord** (o qual contém objetos Seq).\n",
        "\n",
        "Link do tutorial utilizado: http://biopython.org/DIST/docs/tutorial/Tutorial.pdf"
      ]
    },
    {
      "cell_type": "markdown",
      "metadata": {
        "id": "cSTbgVK4gM3r"
      },
      "source": [
        "**Instalar a biblioteca Biopython e importar o módulo SeqIO:**"
      ]
    },
    {
      "cell_type": "code",
      "metadata": {
        "colab": {
          "base_uri": "https://localhost:8080/"
        },
        "id": "QJD-Uy0uc_fA",
        "outputId": "8ac783e7-e651-4f11-8c1e-0c208823d6e4"
      },
      "source": [
        "!pip install biopython"
      ],
      "execution_count": null,
      "outputs": [
        {
          "output_type": "stream",
          "text": [
            "Collecting biopython\n",
            "\u001b[?25l  Downloading https://files.pythonhosted.org/packages/3a/cd/0098eaff841850c01da928c7f509b72fd3e1f51d77b772e24de9e2312471/biopython-1.78-cp37-cp37m-manylinux1_x86_64.whl (2.3MB)\n",
            "\u001b[K     |████████████████████████████████| 2.3MB 5.6MB/s \n",
            "\u001b[?25hRequirement already satisfied: numpy in /usr/local/lib/python3.7/dist-packages (from biopython) (1.19.5)\n",
            "Installing collected packages: biopython\n",
            "Successfully installed biopython-1.78\n"
          ],
          "name": "stdout"
        }
      ]
    },
    {
      "cell_type": "code",
      "metadata": {
        "id": "ORpT-qUcgTXR"
      },
      "source": [
        "from Bio import SeqIO"
      ],
      "execution_count": null,
      "outputs": []
    },
    {
      "cell_type": "markdown",
      "metadata": {
        "id": "rU8h7RvjgdXR"
      },
      "source": [
        "**Podemos usar a função help() para obter informações sobre o módulo SeqIO:**"
      ]
    },
    {
      "cell_type": "code",
      "metadata": {
        "id": "_pgL0EAAgZaQ"
      },
      "source": [
        "help(SeqIO)"
      ],
      "execution_count": null,
      "outputs": []
    },
    {
      "cell_type": "markdown",
      "metadata": {
        "id": "TOiPdo0RexUA"
      },
      "source": [
        "#<font color=\"blue\">**5.1 Parsing ou Reading Sequências**"
      ]
    },
    {
      "cell_type": "markdown",
      "metadata": {
        "id": "hkKpDT99kRZl"
      },
      "source": [
        "A função **Bio.SeqIO.parse()** é usada para ler dados de sequências como **objetos SeqRecord**. Esta função espera **dois argumentos**:\n",
        "\n",
        "1. O primeiro argumento é um **handle (identificador)** para ler os dados ou um nome de arquivo. Um handle é normalmente um arquivo aberto para leitura, mas pode ser a saída de um programa de linha de comando ou dados baixados da rede (consulte a Seção 5.3). \n",
        "\n",
        "2. O segundo argumento é uma string com letras minúsculas especificando o **formato** da sequência - consulte http://biopython.org/wiki/SeqIO para obter uma lista completa dos formatos suportados.\n",
        "\n",
        "A função Bio.SeqIO.parse() **retorna um iterador** que fornece objetos SeqRecord. **Iteradores são normalmente usado em um \"loop for\"**. \n",
        "\n",
        "Às vezes, você se verá lidando com arquivos que contêm apenas **um único registro**. Para esta situação, use a função **Bio.SeqIO.read()** que recebe os mesmos argumentos. Desde que haja apenas um registro no arquivo, ele é retornado como um objeto SeqRecord. Caso contrário, uma exceção é gerada."
      ]
    },
    {
      "cell_type": "markdown",
      "metadata": {
        "id": "zXxBnCaSkdDC"
      },
      "source": [
        "**RESUMO:**\n",
        "\n",
        "SeqIO.parse() recede 2 argumentos:\n",
        "\n",
        "a) **handle** (identificador) ou o caminho do arquivo\n",
        "\n",
        "b) **formato do arquivo** (\"fasta\", \"genbank\" ou \"gb\", \"embl\", \"uniprot-xml\", etc)\n",
        "\n",
        "Ficando assim: **SeqIO.parse(handle, formato)**\n",
        "\n",
        "\n",
        "\n",
        "\n",
        "\n",
        "\n"
      ]
    },
    {
      "cell_type": "markdown",
      "metadata": {
        "id": "ao6eaA2MZLyg"
      },
      "source": [
        "##<FONT COLOR=\"BLUE\">**5.1.1 LENDO OS ARQUIVOS**:\n",
        "\n",
        "Em geral, Bio.SeqIO.parse() é usado para ler arquivos de sequência como **objetos SeqRecord** e é normalmente usado com um **loop for**."
      ]
    },
    {
      "cell_type": "markdown",
      "metadata": {
        "id": "jRmlf4yse6hv"
      },
      "source": [
        "Irei utilizar arquivos nos formatos FASTA e GenBank.\n",
        "\n",
        "Baixar os exemplos: https://github.com/biopython/biopython/tree/master/Doc/examples\n",
        "\n",
        "Para fazer o download dos exemplos:\n",
        "\n",
        "a) clique no exemplo desejado\n",
        "\n",
        "b) clique em Raw (lado direito da tela)\n",
        "\n",
        "c) clique com o botão direito e \"Salvar como...\" para salvar o arquivo\n"
      ]
    },
    {
      "cell_type": "code",
      "metadata": {
        "id": "uBPOo6NSfPin"
      },
      "source": [
        "# iterador - FASTA\n",
        "for record in SeqIO.parse(\"ls_orchid.fasta.txt\", \"fasta\"):\n",
        "  print(f\"ID: {record.id}    Tamanho: {len(record.seq)} nt\")"
      ],
      "execution_count": null,
      "outputs": []
    },
    {
      "cell_type": "code",
      "metadata": {
        "id": "Nf8J4SiY16FU"
      },
      "source": [
        "# iterador - GENBANK\n",
        "for record in SeqIO.parse(\"ls_orchid.gbk.txt\", \"gb\"):\n",
        "  print(f\"ID: {record.id}    Tamanho: {len(record.seq)} nt\")"
      ],
      "execution_count": null,
      "outputs": []
    },
    {
      "cell_type": "markdown",
      "metadata": {
        "id": "jr3-xdZ7ktq8"
      },
      "source": [
        "Usar list comprehension para extrair as IDs das sequências:"
      ]
    },
    {
      "cell_type": "code",
      "metadata": {
        "colab": {
          "base_uri": "https://localhost:8080/"
        },
        "id": "sMdwgDTE_v32",
        "outputId": "40f86f72-316b-44b6-852b-55565d3583a6"
      },
      "source": [
        "IDs = []\n",
        "for record in SeqIO.parse(\"ls_orchid.fasta.txt\", \"fasta\"):\n",
        "  IDs.append(record.id)\n",
        "print(IDs)"
      ],
      "execution_count": null,
      "outputs": [
        {
          "output_type": "stream",
          "text": [
            "['gi|2765658|emb|Z78533.1|CIZ78533', 'gi|2765657|emb|Z78532.1|CCZ78532', 'gi|2765656|emb|Z78531.1|CFZ78531', 'gi|2765655|emb|Z78530.1|CMZ78530', 'gi|2765654|emb|Z78529.1|CLZ78529', 'gi|2765652|emb|Z78527.1|CYZ78527', 'gi|2765651|emb|Z78526.1|CGZ78526', 'gi|2765650|emb|Z78525.1|CAZ78525', 'gi|2765649|emb|Z78524.1|CFZ78524', 'gi|2765648|emb|Z78523.1|CHZ78523', 'gi|2765647|emb|Z78522.1|CMZ78522', 'gi|2765646|emb|Z78521.1|CCZ78521', 'gi|2765645|emb|Z78520.1|CSZ78520', 'gi|2765644|emb|Z78519.1|CPZ78519', 'gi|2765643|emb|Z78518.1|CRZ78518', 'gi|2765642|emb|Z78517.1|CFZ78517', 'gi|2765641|emb|Z78516.1|CPZ78516', 'gi|2765640|emb|Z78515.1|MXZ78515', 'gi|2765639|emb|Z78514.1|PSZ78514', 'gi|2765638|emb|Z78513.1|PBZ78513', 'gi|2765637|emb|Z78512.1|PWZ78512', 'gi|2765636|emb|Z78511.1|PEZ78511', 'gi|2765635|emb|Z78510.1|PCZ78510', 'gi|2765634|emb|Z78509.1|PPZ78509', 'gi|2765633|emb|Z78508.1|PLZ78508', 'gi|2765632|emb|Z78507.1|PLZ78507', 'gi|2765631|emb|Z78506.1|PLZ78506', 'gi|2765630|emb|Z78505.1|PSZ78505', 'gi|2765629|emb|Z78504.1|PKZ78504', 'gi|2765628|emb|Z78503.1|PCZ78503', 'gi|2765627|emb|Z78502.1|PBZ78502', 'gi|2765626|emb|Z78501.1|PCZ78501', 'gi|2765625|emb|Z78500.1|PWZ78500', 'gi|2765624|emb|Z78499.1|PMZ78499', 'gi|2765623|emb|Z78498.1|PMZ78498', 'gi|2765622|emb|Z78497.1|PDZ78497', 'gi|2765621|emb|Z78496.1|PAZ78496', 'gi|2765620|emb|Z78495.1|PEZ78495', 'gi|2765619|emb|Z78494.1|PNZ78494', 'gi|2765618|emb|Z78493.1|PGZ78493', 'gi|2765617|emb|Z78492.1|PBZ78492', 'gi|2765616|emb|Z78491.1|PCZ78491', 'gi|2765615|emb|Z78490.1|PFZ78490', 'gi|2765614|emb|Z78489.1|PDZ78489', 'gi|2765613|emb|Z78488.1|PTZ78488', 'gi|2765612|emb|Z78487.1|PHZ78487', 'gi|2765611|emb|Z78486.1|PBZ78486', 'gi|2765610|emb|Z78485.1|PHZ78485', 'gi|2765609|emb|Z78484.1|PCZ78484', 'gi|2765608|emb|Z78483.1|PVZ78483', 'gi|2765607|emb|Z78482.1|PEZ78482', 'gi|2765606|emb|Z78481.1|PIZ78481', 'gi|2765605|emb|Z78480.1|PGZ78480', 'gi|2765604|emb|Z78479.1|PPZ78479', 'gi|2765603|emb|Z78478.1|PVZ78478', 'gi|2765602|emb|Z78477.1|PVZ78477', 'gi|2765601|emb|Z78476.1|PGZ78476', 'gi|2765600|emb|Z78475.1|PSZ78475', 'gi|2765599|emb|Z78474.1|PKZ78474', 'gi|2765598|emb|Z78473.1|PSZ78473', 'gi|2765597|emb|Z78472.1|PLZ78472', 'gi|2765596|emb|Z78471.1|PDZ78471', 'gi|2765595|emb|Z78470.1|PPZ78470', 'gi|2765594|emb|Z78469.1|PHZ78469', 'gi|2765593|emb|Z78468.1|PAZ78468', 'gi|2765592|emb|Z78467.1|PSZ78467', 'gi|2765591|emb|Z78466.1|PPZ78466', 'gi|2765590|emb|Z78465.1|PRZ78465', 'gi|2765589|emb|Z78464.1|PGZ78464', 'gi|2765588|emb|Z78463.1|PGZ78463', 'gi|2765587|emb|Z78462.1|PSZ78462', 'gi|2765586|emb|Z78461.1|PWZ78461', 'gi|2765585|emb|Z78460.1|PCZ78460', 'gi|2765584|emb|Z78459.1|PDZ78459', 'gi|2765583|emb|Z78458.1|PHZ78458', 'gi|2765582|emb|Z78457.1|PCZ78457', 'gi|2765581|emb|Z78456.1|PTZ78456', 'gi|2765580|emb|Z78455.1|PJZ78455', 'gi|2765579|emb|Z78454.1|PFZ78454', 'gi|2765578|emb|Z78453.1|PSZ78453', 'gi|2765577|emb|Z78452.1|PBZ78452', 'gi|2765576|emb|Z78451.1|PHZ78451', 'gi|2765575|emb|Z78450.1|PPZ78450', 'gi|2765574|emb|Z78449.1|PMZ78449', 'gi|2765573|emb|Z78448.1|PAZ78448', 'gi|2765572|emb|Z78447.1|PVZ78447', 'gi|2765571|emb|Z78446.1|PAZ78446', 'gi|2765570|emb|Z78445.1|PUZ78445', 'gi|2765569|emb|Z78444.1|PAZ78444', 'gi|2765568|emb|Z78443.1|PLZ78443', 'gi|2765567|emb|Z78442.1|PBZ78442', 'gi|2765566|emb|Z78441.1|PSZ78441', 'gi|2765565|emb|Z78440.1|PPZ78440', 'gi|2765564|emb|Z78439.1|PBZ78439']\n"
          ],
          "name": "stdout"
        }
      ]
    },
    {
      "cell_type": "code",
      "metadata": {
        "id": "SSVlVnztue0m",
        "colab": {
          "base_uri": "https://localhost:8080/"
        },
        "outputId": "205f848e-80e0-4f40-f137-7665d3dad592"
      },
      "source": [
        "# FASTA\n",
        "ids = [record.id for record in SeqIO.parse(\"ls_orchid.fasta.txt\", \"fasta\")]\n",
        "print(ids)"
      ],
      "execution_count": null,
      "outputs": [
        {
          "output_type": "stream",
          "text": [
            "['gi|2765658|emb|Z78533.1|CIZ78533', 'gi|2765657|emb|Z78532.1|CCZ78532', 'gi|2765656|emb|Z78531.1|CFZ78531', 'gi|2765655|emb|Z78530.1|CMZ78530', 'gi|2765654|emb|Z78529.1|CLZ78529', 'gi|2765652|emb|Z78527.1|CYZ78527', 'gi|2765651|emb|Z78526.1|CGZ78526', 'gi|2765650|emb|Z78525.1|CAZ78525', 'gi|2765649|emb|Z78524.1|CFZ78524', 'gi|2765648|emb|Z78523.1|CHZ78523', 'gi|2765647|emb|Z78522.1|CMZ78522', 'gi|2765646|emb|Z78521.1|CCZ78521', 'gi|2765645|emb|Z78520.1|CSZ78520', 'gi|2765644|emb|Z78519.1|CPZ78519', 'gi|2765643|emb|Z78518.1|CRZ78518', 'gi|2765642|emb|Z78517.1|CFZ78517', 'gi|2765641|emb|Z78516.1|CPZ78516', 'gi|2765640|emb|Z78515.1|MXZ78515', 'gi|2765639|emb|Z78514.1|PSZ78514', 'gi|2765638|emb|Z78513.1|PBZ78513', 'gi|2765637|emb|Z78512.1|PWZ78512', 'gi|2765636|emb|Z78511.1|PEZ78511', 'gi|2765635|emb|Z78510.1|PCZ78510', 'gi|2765634|emb|Z78509.1|PPZ78509', 'gi|2765633|emb|Z78508.1|PLZ78508', 'gi|2765632|emb|Z78507.1|PLZ78507', 'gi|2765631|emb|Z78506.1|PLZ78506', 'gi|2765630|emb|Z78505.1|PSZ78505', 'gi|2765629|emb|Z78504.1|PKZ78504', 'gi|2765628|emb|Z78503.1|PCZ78503', 'gi|2765627|emb|Z78502.1|PBZ78502', 'gi|2765626|emb|Z78501.1|PCZ78501', 'gi|2765625|emb|Z78500.1|PWZ78500', 'gi|2765624|emb|Z78499.1|PMZ78499', 'gi|2765623|emb|Z78498.1|PMZ78498', 'gi|2765622|emb|Z78497.1|PDZ78497', 'gi|2765621|emb|Z78496.1|PAZ78496', 'gi|2765620|emb|Z78495.1|PEZ78495', 'gi|2765619|emb|Z78494.1|PNZ78494', 'gi|2765618|emb|Z78493.1|PGZ78493', 'gi|2765617|emb|Z78492.1|PBZ78492', 'gi|2765616|emb|Z78491.1|PCZ78491', 'gi|2765615|emb|Z78490.1|PFZ78490', 'gi|2765614|emb|Z78489.1|PDZ78489', 'gi|2765613|emb|Z78488.1|PTZ78488', 'gi|2765612|emb|Z78487.1|PHZ78487', 'gi|2765611|emb|Z78486.1|PBZ78486', 'gi|2765610|emb|Z78485.1|PHZ78485', 'gi|2765609|emb|Z78484.1|PCZ78484', 'gi|2765608|emb|Z78483.1|PVZ78483', 'gi|2765607|emb|Z78482.1|PEZ78482', 'gi|2765606|emb|Z78481.1|PIZ78481', 'gi|2765605|emb|Z78480.1|PGZ78480', 'gi|2765604|emb|Z78479.1|PPZ78479', 'gi|2765603|emb|Z78478.1|PVZ78478', 'gi|2765602|emb|Z78477.1|PVZ78477', 'gi|2765601|emb|Z78476.1|PGZ78476', 'gi|2765600|emb|Z78475.1|PSZ78475', 'gi|2765599|emb|Z78474.1|PKZ78474', 'gi|2765598|emb|Z78473.1|PSZ78473', 'gi|2765597|emb|Z78472.1|PLZ78472', 'gi|2765596|emb|Z78471.1|PDZ78471', 'gi|2765595|emb|Z78470.1|PPZ78470', 'gi|2765594|emb|Z78469.1|PHZ78469', 'gi|2765593|emb|Z78468.1|PAZ78468', 'gi|2765592|emb|Z78467.1|PSZ78467', 'gi|2765591|emb|Z78466.1|PPZ78466', 'gi|2765590|emb|Z78465.1|PRZ78465', 'gi|2765589|emb|Z78464.1|PGZ78464', 'gi|2765588|emb|Z78463.1|PGZ78463', 'gi|2765587|emb|Z78462.1|PSZ78462', 'gi|2765586|emb|Z78461.1|PWZ78461', 'gi|2765585|emb|Z78460.1|PCZ78460', 'gi|2765584|emb|Z78459.1|PDZ78459', 'gi|2765583|emb|Z78458.1|PHZ78458', 'gi|2765582|emb|Z78457.1|PCZ78457', 'gi|2765581|emb|Z78456.1|PTZ78456', 'gi|2765580|emb|Z78455.1|PJZ78455', 'gi|2765579|emb|Z78454.1|PFZ78454', 'gi|2765578|emb|Z78453.1|PSZ78453', 'gi|2765577|emb|Z78452.1|PBZ78452', 'gi|2765576|emb|Z78451.1|PHZ78451', 'gi|2765575|emb|Z78450.1|PPZ78450', 'gi|2765574|emb|Z78449.1|PMZ78449', 'gi|2765573|emb|Z78448.1|PAZ78448', 'gi|2765572|emb|Z78447.1|PVZ78447', 'gi|2765571|emb|Z78446.1|PAZ78446', 'gi|2765570|emb|Z78445.1|PUZ78445', 'gi|2765569|emb|Z78444.1|PAZ78444', 'gi|2765568|emb|Z78443.1|PLZ78443', 'gi|2765567|emb|Z78442.1|PBZ78442', 'gi|2765566|emb|Z78441.1|PSZ78441', 'gi|2765565|emb|Z78440.1|PPZ78440', 'gi|2765564|emb|Z78439.1|PBZ78439']\n"
          ],
          "name": "stdout"
        }
      ]
    },
    {
      "cell_type": "code",
      "metadata": {
        "id": "_QrBcAWJk04z",
        "colab": {
          "base_uri": "https://localhost:8080/"
        },
        "outputId": "39f4f5b1-a3bf-4467-c5fd-3c59aa2df900"
      },
      "source": [
        "# GENBANK\n",
        "ids = [record.id for record in SeqIO.parse(\"ls_orchid.gbk.txt\", \"gb\")]\n",
        "print(ids)"
      ],
      "execution_count": null,
      "outputs": [
        {
          "output_type": "stream",
          "text": [
            "['Z78533.1', 'Z78532.1', 'Z78531.1', 'Z78530.1', 'Z78529.1', 'Z78527.1', 'Z78526.1', 'Z78525.1', 'Z78524.1', 'Z78523.1', 'Z78522.1', 'Z78521.1', 'Z78520.1', 'Z78519.1', 'Z78518.1', 'Z78517.1', 'Z78516.1', 'Z78515.1', 'Z78514.1', 'Z78513.1', 'Z78512.1', 'Z78511.1', 'Z78510.1', 'Z78509.1', 'Z78508.1', 'Z78507.1', 'Z78506.1', 'Z78505.1', 'Z78504.1', 'Z78503.1', 'Z78502.1', 'Z78501.1', 'Z78500.1', 'Z78499.1', 'Z78498.1', 'Z78497.1', 'Z78496.1', 'Z78495.1', 'Z78494.1', 'Z78493.1', 'Z78492.1', 'Z78491.1', 'Z78490.1', 'Z78489.1', 'Z78488.1', 'Z78487.1', 'Z78486.1', 'Z78485.1', 'Z78484.1', 'Z78483.1', 'Z78482.1', 'Z78481.1', 'Z78480.1', 'Z78479.1', 'Z78478.1', 'Z78477.1', 'Z78476.1', 'Z78475.1', 'Z78474.1', 'Z78473.1', 'Z78472.1', 'Z78471.1', 'Z78470.1', 'Z78469.1', 'Z78468.1', 'Z78467.1', 'Z78466.1', 'Z78465.1', 'Z78464.1', 'Z78463.1', 'Z78462.1', 'Z78461.1', 'Z78460.1', 'Z78459.1', 'Z78458.1', 'Z78457.1', 'Z78456.1', 'Z78455.1', 'Z78454.1', 'Z78453.1', 'Z78452.1', 'Z78451.1', 'Z78450.1', 'Z78449.1', 'Z78448.1', 'Z78447.1', 'Z78446.1', 'Z78445.1', 'Z78444.1', 'Z78443.1', 'Z78442.1', 'Z78441.1', 'Z78440.1', 'Z78439.1']\n"
          ],
          "name": "stdout"
        }
      ]
    },
    {
      "cell_type": "markdown",
      "metadata": {
        "id": "Iq0TPK5woSyy"
      },
      "source": [
        "**Fazer download do GenBank:**"
      ]
    },
    {
      "cell_type": "markdown",
      "metadata": {
        "id": "Rx77LVirokkE"
      },
      "source": [
        "formato FASTA\n",
        "\n",
        "https://www.ncbi.nlm.nih.gov/nuccore/Z78533.1?report=fasta"
      ]
    },
    {
      "cell_type": "code",
      "metadata": {
        "colab": {
          "base_uri": "https://localhost:8080/"
        },
        "id": "fZ0pv1yfomNj",
        "outputId": "dacb199d-1c9a-443c-b3cf-12b6a6279bfa"
      },
      "source": [
        "# FASTA\n",
        "\n",
        "# iterador\n",
        "for record in SeqIO.parse(\"sequence.fasta\", \"fasta\"):\n",
        "  print(f\"ID: {record.id}    Tamanho: {len(record.seq)} nt\")"
      ],
      "execution_count": null,
      "outputs": [
        {
          "output_type": "stream",
          "text": [
            "ID: Z78533.1    Tamanho: 740 nt\n"
          ],
          "name": "stdout"
        }
      ]
    },
    {
      "cell_type": "markdown",
      "metadata": {
        "id": "usXthyk4o1ZG"
      },
      "source": [
        "formato GENBANK\n",
        "\n",
        "https://www.ncbi.nlm.nih.gov/nuccore/Z78533.1?report=genbank"
      ]
    },
    {
      "cell_type": "code",
      "metadata": {
        "id": "28OaI2ULo8C6",
        "colab": {
          "base_uri": "https://localhost:8080/"
        },
        "outputId": "cfef30f5-9a96-4702-ac64-e609b74d7764"
      },
      "source": [
        "# GENBANK\n",
        "\n",
        "# iterador\n",
        "for record in SeqIO.parse(\"sequence.gb\", \"gb\"):\n",
        "  print(f\"ID: {record.id}    Tamanho: {len(record.seq)} nt\")"
      ],
      "execution_count": null,
      "outputs": [
        {
          "output_type": "stream",
          "text": [
            "ID: Z78533.1    Tamanho: 740 nt\n"
          ],
          "name": "stdout"
        }
      ]
    },
    {
      "cell_type": "markdown",
      "metadata": {
        "id": "iMsqOjB0hQ-o"
      },
      "source": [
        "##<FONT COLOR=\"BLUE\">**5.1.2 ITERANDO SOBRE OS REGISTROS DO ARQUIVO**:\n",
        "\n",
        "\n"
      ]
    },
    {
      "cell_type": "markdown",
      "metadata": {
        "id": "l-MosDHbioPz"
      },
      "source": [
        "Nos exemplos acima, usamos um **loop for** para iterar todos os registros um por um. Você pode usar o **loop for** com todos os tipos de objetos Python (incluindo listas, tuplas e strings) que suportam a iteração.\n",
        "\n",
        "O objeto retornado por Bio.SeqIO é na verdade um iterador que retorna objetos SeqRecord. Você consegue ver cada registro por vez, mas apenas uma vez. **O ponto positivo é que um iterador pode economizar memória ao lidar com arquivos grandes.**\n",
        "\n",
        "Em vez de usar um **loop for**, também pode usar a função **next()** em um iterador para percorrer as entradas."
      ]
    },
    {
      "cell_type": "code",
      "metadata": {
        "id": "IewAcJ2sha0F",
        "colab": {
          "base_uri": "https://localhost:8080/"
        },
        "outputId": "d7cd7005-aee3-468e-9c25-adac56016785"
      },
      "source": [
        "record_iterator = SeqIO.parse(\"ls_orchid.fasta.txt\", \"fasta\")\n",
        "\n",
        "# usar next() para ir iterando sequência por sequência\n",
        "first_record = next(record_iterator)\n",
        "print(first_record.id)\n",
        "print(first_record.description)\n",
        "\n",
        "print()\n",
        "\n",
        "second_record = next(record_iterator)\n",
        "print(second_record.id)\n",
        "print(second_record.description)"
      ],
      "execution_count": null,
      "outputs": [
        {
          "output_type": "stream",
          "text": [
            "gi|2765658|emb|Z78533.1|CIZ78533\n",
            "gi|2765658|emb|Z78533.1|CIZ78533 C.irapeanum 5.8S rRNA gene and ITS1 and ITS2 DNA\n",
            "\n",
            "gi|2765657|emb|Z78532.1|CCZ78532\n",
            "gi|2765657|emb|Z78532.1|CCZ78532 C.californicum 5.8S rRNA gene and ITS1 and ITS2 DNA\n"
          ],
          "name": "stdout"
        }
      ]
    },
    {
      "cell_type": "markdown",
      "metadata": {
        "id": "Mm-safo6q9IF"
      },
      "source": [
        "Observe que se você tentar usar **next()** e não houver mais resultados, você obterá a exceção \"StopIteration\"."
      ]
    },
    {
      "cell_type": "markdown",
      "metadata": {
        "id": "BGIyoQPBmSK9"
      },
      "source": [
        "Usar next() para extrair apenas a primeira sequência:"
      ]
    },
    {
      "cell_type": "code",
      "metadata": {
        "colab": {
          "base_uri": "https://localhost:8080/"
        },
        "id": "jEC4sFAtmOOr",
        "outputId": "3f1bf7ee-5bf4-48aa-e7b2-c50dfccb444c"
      },
      "source": [
        "first_record = next(SeqIO.parse(\"ls_orchid.fasta.txt\", \"fasta\"))\n",
        "print(first_record)"
      ],
      "execution_count": null,
      "outputs": [
        {
          "output_type": "stream",
          "text": [
            "ID: gi|2765658|emb|Z78533.1|CIZ78533\n",
            "Name: gi|2765658|emb|Z78533.1|CIZ78533\n",
            "Description: gi|2765658|emb|Z78533.1|CIZ78533 C.irapeanum 5.8S rRNA gene and ITS1 and ITS2 DNA\n",
            "Number of features: 0\n",
            "Seq('CGTAACAAGGTTTCCGTAGGTGAACCTGCGGAAGGATCATTGATGAGACCGTGG...CGC')\n"
          ],
          "name": "stdout"
        }
      ]
    },
    {
      "cell_type": "markdown",
      "metadata": {
        "id": "m9IiOgeBgKSI"
      },
      "source": [
        "**Para arquivos que contenham apenas 1 registro (1 record), podemos utilizar o \"SeqIO.read()\":**"
      ]
    },
    {
      "cell_type": "markdown",
      "metadata": {
        "id": "K2Y1AJD405k7"
      },
      "source": [
        "Vamos fazer um teste: usar o SeqIO.parse() para ler um arquivo que contém apenas 1 registro. Quando usamos o 'parse', é retornado um iterador. Por isso não conseguimos acessar diretamente os atributos do objeto:"
      ]
    },
    {
      "cell_type": "code",
      "metadata": {
        "id": "HuS59xIf0e2l"
      },
      "source": [
        "# Observe o ERRO gerado ao tentar acessar os atributos do iterador\n",
        "record = SeqIO.parse(\"sequence.fasta\", \"fasta\")\n",
        "print(f\"ID: {record.id}    Tamanho: {len(record.seq)} nt\")"
      ],
      "execution_count": null,
      "outputs": []
    },
    {
      "cell_type": "markdown",
      "metadata": {
        "id": "cv5dU3VG1PpN"
      },
      "source": [
        "Para corrigir isso, podemos usar a função next():"
      ]
    },
    {
      "cell_type": "code",
      "metadata": {
        "id": "ONarKX870tUX",
        "colab": {
          "base_uri": "https://localhost:8080/"
        },
        "outputId": "512a76a1-c7ec-4906-f2ea-c85b23ef9c20"
      },
      "source": [
        "# Use next() para driblar o erro\n",
        "record = next(SeqIO.parse(\"sequence.fasta\", \"fasta\"))\n",
        "print(f\"ID: {record.id}    Tamanho: {len(record.seq)} nt\")"
      ],
      "execution_count": null,
      "outputs": [
        {
          "output_type": "stream",
          "text": [
            "ID: Z78533.1    Tamanho: 740 nt\n"
          ],
          "name": "stdout"
        }
      ]
    },
    {
      "cell_type": "markdown",
      "metadata": {
        "id": "_OTBUx7N1imG"
      },
      "source": [
        "Porém, a melhor maneira para ler arquivos que contenham apenas 1 registro é com o **SeqIO.read()**, pois retorna um objeto em que podemos acessar os atributos:"
      ]
    },
    {
      "cell_type": "code",
      "metadata": {
        "colab": {
          "base_uri": "https://localhost:8080/"
        },
        "id": "tgOv9P8-0XHh",
        "outputId": "29aa58a1-df65-42fa-8175-f067d13a1b17"
      },
      "source": [
        "# SeqIO.read()\n",
        "record = SeqIO.read(\"sequence.fasta\", \"fasta\")\n",
        "print(f\"ID: {record.id}    Tamanho: {len(record.seq)} nt\")"
      ],
      "execution_count": null,
      "outputs": [
        {
          "output_type": "stream",
          "text": [
            "ID: Z78533.1    Tamanho: 740 nt\n"
          ],
          "name": "stdout"
        }
      ]
    },
    {
      "cell_type": "markdown",
      "metadata": {
        "id": "ktUWeOA5vPwR"
      },
      "source": [
        "##<FONT COLOR=\"BLUE\">**5.1.3 CRIANDO UMA LISTA DOS REGISTROS**:\n",
        "\n"
      ]
    },
    {
      "cell_type": "markdown",
      "metadata": {
        "id": "BIiiZIJOrj0F"
      },
      "source": [
        "SeqIO.parse() retorna um iterador, assim você tem acesso aos registros um a um, porém, pode ser que você precise acessar um registro em uma dada ordem. Para isso, temos que transformar o iterador em uma **lista**."
      ]
    },
    {
      "cell_type": "code",
      "metadata": {
        "colab": {
          "base_uri": "https://localhost:8080/"
        },
        "id": "ZPurCTHHv1SN",
        "outputId": "476663dc-8b50-4cb3-f2e2-9bc1e6cb3bcd"
      },
      "source": [
        "# usar list()\n",
        "records = list(SeqIO.parse(\"ls_orchid.fasta.txt\", \"fasta\"))\n",
        "\n",
        "print(f\"Existem {len(records)} registros\")"
      ],
      "execution_count": null,
      "outputs": [
        {
          "output_type": "stream",
          "text": [
            "Existem 94 registros\n"
          ],
          "name": "stdout"
        }
      ]
    },
    {
      "cell_type": "code",
      "metadata": {
        "id": "_7DSLNRsw6xr",
        "colab": {
          "base_uri": "https://localhost:8080/"
        },
        "outputId": "cc57bb14-1008-467d-faa9-c2458fdfdbfb"
      },
      "source": [
        "first_record = records[0]\n",
        "print(\"Primero registro:\")\n",
        "print(f\"ID: {first_record.id}\")\n",
        "print(f\"Tamanho: {len(first_record.seq)}\")\n",
        "\n",
        "print()\n",
        "print(\"Último registro:\")\n",
        "last_record = records[-1] \n",
        "print(f\"ID: {last_record.id}\")\n",
        "print(f\"Tamanho: {len(last_record.seq)}\")"
      ],
      "execution_count": null,
      "outputs": [
        {
          "output_type": "stream",
          "text": [
            "Primero registro:\n",
            "ID: gi|2765658|emb|Z78533.1|CIZ78533\n",
            "Tamanho: 740\n",
            "\n",
            "Último registro:\n",
            "ID: gi|2765564|emb|Z78439.1|PBZ78439\n",
            "Tamanho: 592\n"
          ],
          "name": "stdout"
        }
      ]
    },
    {
      "cell_type": "markdown",
      "metadata": {
        "id": "WcNP9Zboxd2R"
      },
      "source": [
        "É claro que podemos um **loop for** com uma lista de objetos SeqRecord. Usar uma lista é muito mais flexível\n",
        "do que um iterador (por exemplo, você pode determinar o número de registros do comprimento da lista), mas\n",
        "precisa de mais memória porque irá manter todos os registros na memória de uma vez."
      ]
    },
    {
      "cell_type": "markdown",
      "metadata": {
        "id": "2Kpy4pxhx246"
      },
      "source": [
        "##<FONT COLOR=\"BLUE\">**5.1.4 EXTRAINDO DADOS**:"
      ]
    },
    {
      "cell_type": "markdown",
      "metadata": {
        "id": "zw5MtcFsrcPh"
      },
      "source": [
        "O objeto SeqRecord e suas estruturas de anotação são descritos mais detalhadamente no Capítulo 4. Como um exemplo de como as anotações são armazenadas, veremos a saída da análise do **primeiro registro no arquivo GenBank**."
      ]
    },
    {
      "cell_type": "code",
      "metadata": {
        "id": "pMToSTt0wPs3",
        "colab": {
          "base_uri": "https://localhost:8080/"
        },
        "outputId": "1826b532-ba13-4c22-d948-3a8f3feb8467"
      },
      "source": [
        "# GENBANK\n",
        "\n",
        "# iterador\n",
        "record_iterator = SeqIO.parse(\"ls_orchid.gbk.txt\", \"genbank\")\n",
        "\n",
        "# primeiro registro do arquivo\n",
        "first_record = next(record_iterator)\n",
        "print(first_record)"
      ],
      "execution_count": null,
      "outputs": [
        {
          "output_type": "stream",
          "text": [
            "ID: Z78533.1\n",
            "Name: Z78533\n",
            "Description: C.irapeanum 5.8S rRNA gene and ITS1 and ITS2 DNA\n",
            "Number of features: 5\n",
            "/molecule_type=DNA\n",
            "/topology=linear\n",
            "/data_file_division=PLN\n",
            "/date=30-NOV-2006\n",
            "/accessions=['Z78533']\n",
            "/sequence_version=1\n",
            "/gi=2765658\n",
            "/keywords=['5.8S ribosomal RNA', '5.8S rRNA gene', 'internal transcribed spacer', 'ITS1', 'ITS2']\n",
            "/source=Cypripedium irapeanum\n",
            "/organism=Cypripedium irapeanum\n",
            "/taxonomy=['Eukaryota', 'Viridiplantae', 'Streptophyta', 'Embryophyta', 'Tracheophyta', 'Spermatophyta', 'Magnoliophyta', 'Liliopsida', 'Asparagales', 'Orchidaceae', 'Cypripedioideae', 'Cypripedium']\n",
            "/references=[Reference(title='Phylogenetics of the slipper orchids (Cypripedioideae: Orchidaceae): nuclear rDNA ITS sequences', ...), Reference(title='Direct Submission', ...)]\n",
            "Seq('CGTAACAAGGTTTCCGTAGGTGAACCTGCGGAAGGATCATTGATGAGACCGTGG...CGC')\n"
          ],
          "name": "stdout"
        }
      ]
    },
    {
      "cell_type": "markdown",
      "metadata": {
        "id": "nzfr5qWhsGrC"
      },
      "source": [
        "Isso fornece um resumo legível da maioria dos dados de anotação para o SeqRecord. Para este exemplo, vamos usar o atributo **.annotations**, que é um dicionário Python. \n",
        "\n",
        "O conteúdo deste dicionário de anotações foi mostrado quando imprimimos o registro acima. Você também pode imprimi-los\n",
        "diretamente:"
      ]
    },
    {
      "cell_type": "code",
      "metadata": {
        "colab": {
          "base_uri": "https://localhost:8080/"
        },
        "id": "gzFlRKo9r7j-",
        "outputId": "760edf13-6335-4930-eef1-e467b3965580"
      },
      "source": [
        "# imprimir o dicionário 'annotations'\n",
        "print(first_record.annotations)"
      ],
      "execution_count": null,
      "outputs": [
        {
          "output_type": "stream",
          "text": [
            "{'molecule_type': 'DNA', 'topology': 'linear', 'data_file_division': 'PLN', 'date': '30-NOV-2006', 'accessions': ['Z78533'], 'sequence_version': 1, 'gi': '2765658', 'keywords': ['5.8S ribosomal RNA', '5.8S rRNA gene', 'internal transcribed spacer', 'ITS1', 'ITS2'], 'source': 'Cypripedium irapeanum', 'organism': 'Cypripedium irapeanum', 'taxonomy': ['Eukaryota', 'Viridiplantae', 'Streptophyta', 'Embryophyta', 'Tracheophyta', 'Spermatophyta', 'Magnoliophyta', 'Liliopsida', 'Asparagales', 'Orchidaceae', 'Cypripedioideae', 'Cypripedium'], 'references': [Reference(title='Phylogenetics of the slipper orchids (Cypripedioideae: Orchidaceae): nuclear rDNA ITS sequences', ...), Reference(title='Direct Submission', ...)]}\n"
          ],
          "name": "stdout"
        }
      ]
    },
    {
      "cell_type": "code",
      "metadata": {
        "colab": {
          "base_uri": "https://localhost:8080/"
        },
        "id": "uaW8unwAsZss",
        "outputId": "4dbf68a2-0252-416d-8c48-bf27ba007f18"
      },
      "source": [
        "# chaves\n",
        "print(first_record.annotations.keys())"
      ],
      "execution_count": null,
      "outputs": [
        {
          "output_type": "stream",
          "text": [
            "dict_keys(['molecule_type', 'topology', 'data_file_division', 'date', 'accessions', 'sequence_version', 'gi', 'keywords', 'source', 'organism', 'taxonomy', 'references'])\n"
          ],
          "name": "stdout"
        }
      ]
    },
    {
      "cell_type": "code",
      "metadata": {
        "colab": {
          "base_uri": "https://localhost:8080/"
        },
        "id": "NI1YHkGxsccZ",
        "outputId": "a38b8ac9-e5de-4a1e-fb62-bbbb3407e2f8"
      },
      "source": [
        "# valores\n",
        "print(first_record.annotations.values())"
      ],
      "execution_count": null,
      "outputs": [
        {
          "output_type": "stream",
          "text": [
            "dict_values(['DNA', 'linear', 'PLN', '30-NOV-2006', ['Z78533'], 1, '2765658', ['5.8S ribosomal RNA', '5.8S rRNA gene', 'internal transcribed spacer', 'ITS1', 'ITS2'], 'Cypripedium irapeanum', 'Cypripedium irapeanum', ['Eukaryota', 'Viridiplantae', 'Streptophyta', 'Embryophyta', 'Tracheophyta', 'Spermatophyta', 'Magnoliophyta', 'Liliopsida', 'Asparagales', 'Orchidaceae', 'Cypripedioideae', 'Cypripedium'], [Reference(title='Phylogenetics of the slipper orchids (Cypripedioideae: Orchidaceae): nuclear rDNA ITS sequences', ...), Reference(title='Direct Submission', ...)]])\n"
          ],
          "name": "stdout"
        }
      ]
    },
    {
      "cell_type": "markdown",
      "metadata": {
        "id": "GT32v0hnswRx"
      },
      "source": [
        "Extrair o nome da espécie:"
      ]
    },
    {
      "cell_type": "code",
      "metadata": {
        "colab": {
          "base_uri": "https://localhost:8080/",
          "height": 35
        },
        "id": "PWRgd1uasxrY",
        "outputId": "2a68b881-06b7-4cea-9833-5f7f0c7fc423"
      },
      "source": [
        "# organism = nome científico\n",
        "first_record.annotations[\"organism\"]"
      ],
      "execution_count": null,
      "outputs": [
        {
          "output_type": "execute_result",
          "data": {
            "application/vnd.google.colaboratory.intrinsic+json": {
              "type": "string"
            },
            "text/plain": [
              "'Cypripedium irapeanum'"
            ]
          },
          "metadata": {
            "tags": []
          },
          "execution_count": 27
        }
      ]
    },
    {
      "cell_type": "code",
      "metadata": {
        "colab": {
          "base_uri": "https://localhost:8080/",
          "height": 35
        },
        "id": "PK-tOg3As3i5",
        "outputId": "397f8b87-986e-4896-9783-b1e0f3d52013"
      },
      "source": [
        "# source = nome comum (aqui coincidiu de serem o mesmo nome)\n",
        "first_record.annotations[\"source\"]"
      ],
      "execution_count": null,
      "outputs": [
        {
          "output_type": "execute_result",
          "data": {
            "application/vnd.google.colaboratory.intrinsic+json": {
              "type": "string"
            },
            "text/plain": [
              "'Cypripedium irapeanum'"
            ]
          },
          "metadata": {
            "tags": []
          },
          "execution_count": 28
        }
      ]
    },
    {
      "cell_type": "markdown",
      "metadata": {
        "id": "4uO9xiqKtPJ-"
      },
      "source": [
        "Extrair os nomes de todas as espécies:"
      ]
    },
    {
      "cell_type": "code",
      "metadata": {
        "colab": {
          "base_uri": "https://localhost:8080/"
        },
        "id": "FFiCqvoMtLic",
        "outputId": "aa378117-5008-4c71-fb58-f728280ba3e3"
      },
      "source": [
        "# lista vazia\n",
        "all_species = []\n",
        "\n",
        "# iterador\n",
        "for record in SeqIO.parse(\"ls_orchid.gbk.txt\", \"genbank\"):\n",
        "  all_species.append(record.annotations[\"organism\"])\n",
        "\n",
        "print(all_species)\n",
        "print(len(all_species))"
      ],
      "execution_count": null,
      "outputs": [
        {
          "output_type": "stream",
          "text": [
            "['Cypripedium irapeanum', 'Cypripedium californicum', 'Cypripedium fasciculatum', 'Cypripedium margaritaceum', 'Cypripedium lichiangense', 'Cypripedium yatabeanum', 'Cypripedium guttatum', 'Cypripedium acaule', 'Cypripedium formosanum', 'Cypripedium himalaicum', 'Cypripedium macranthon', 'Cypripedium calceolus', 'Cypripedium segawai', 'Cypripedium parviflorum var. pubescens', 'Cypripedium reginae', 'Cypripedium flavum', 'Cypripedium passerinum', 'Mexipedium xerophyticum', 'Phragmipedium schlimii', 'Phragmipedium besseae', 'Phragmipedium wallisii', 'Phragmipedium exstaminodium', 'Phragmipedium caricinum', 'Phragmipedium pearcei', 'Phragmipedium longifolium', 'Phragmipedium lindenii', 'Phragmipedium lindleyanum', 'Phragmipedium sargentianum', 'Phragmipedium kaiteurum', 'Phragmipedium czerwiakowianum', 'Phragmipedium boissierianum', 'Phragmipedium caudatum', 'Phragmipedium warszewiczianum', 'Paphiopedilum micranthum', 'Paphiopedilum malipoense', 'Paphiopedilum delenatii', 'Paphiopedilum armeniacum', 'Paphiopedilum emersonii', 'Paphiopedilum niveum', 'Paphiopedilum godefroyae', 'Paphiopedilum bellatulum', 'Paphiopedilum concolor', 'Paphiopedilum fairrieanum', 'Paphiopedilum druryi', 'Paphiopedilum tigrinum', 'Paphiopedilum hirsutissimum', 'Paphiopedilum barbigerum', 'Paphiopedilum henryanum', 'Paphiopedilum charlesworthii', 'Paphiopedilum villosum', 'Paphiopedilum exul', 'Paphiopedilum insigne', 'Paphiopedilum gratrixianum', 'Paphiopedilum primulinum', 'Paphiopedilum victoria', 'Paphiopedilum victoria', 'Paphiopedilum glaucophyllum', 'Paphiopedilum supardii', 'Paphiopedilum kolopakingii', 'Paphiopedilum sanderianum', 'Paphiopedilum lowii', 'Paphiopedilum dianthum', 'Paphiopedilum parishii', 'Paphiopedilum haynaldianum', 'Paphiopedilum adductum', 'Paphiopedilum stonei', 'Paphiopedilum philippinense', 'Paphiopedilum rothschildianum', 'Paphiopedilum glanduliferum', 'Paphiopedilum glanduliferum', 'Paphiopedilum sukhakulii', 'Paphiopedilum wardii', 'Paphiopedilum ciliolare', 'Paphiopedilum dayanum', 'Paphiopedilum hennisianum', 'Paphiopedilum callosum', 'Paphiopedilum tonsum', 'Paphiopedilum javanicum', 'Paphiopedilum fowliei', 'Paphiopedilum schoseri', 'Paphiopedilum bougainvilleanum', 'Paphiopedilum hookerae', 'Paphiopedilum papuanum', 'Paphiopedilum mastersianum', 'Paphiopedilum argus', 'Paphiopedilum venustum', 'Paphiopedilum acmodontum', 'Paphiopedilum urbanianum', 'Paphiopedilum appletonianum', 'Paphiopedilum lawrenceanum', 'Paphiopedilum bullenianum', 'Paphiopedilum superbiens', 'Paphiopedilum purpuratum', 'Paphiopedilum barbatum']\n",
            "94\n"
          ],
          "name": "stdout"
        }
      ]
    },
    {
      "cell_type": "markdown",
      "metadata": {
        "id": "Hn4D8YM4tuCC"
      },
      "source": [
        "Extrair os nomes de todas as espécies com list comprehension:"
      ]
    },
    {
      "cell_type": "code",
      "metadata": {
        "id": "HipwnZbttsIs",
        "colab": {
          "base_uri": "https://localhost:8080/"
        },
        "outputId": "adc384f2-9d07-47f4-a365-e678aaa55899"
      },
      "source": [
        "all_species = [record.annotations[\"organism\"] for record in SeqIO.parse(\"ls_orchid.gbk.txt\", \"genbank\")]\n",
        "\n",
        "print(all_species)\n",
        "print(len(all_species))"
      ],
      "execution_count": null,
      "outputs": [
        {
          "output_type": "stream",
          "text": [
            "['Cypripedium irapeanum', 'Cypripedium californicum', 'Cypripedium fasciculatum', 'Cypripedium margaritaceum', 'Cypripedium lichiangense', 'Cypripedium yatabeanum', 'Cypripedium guttatum', 'Cypripedium acaule', 'Cypripedium formosanum', 'Cypripedium himalaicum', 'Cypripedium macranthon', 'Cypripedium calceolus', 'Cypripedium segawai', 'Cypripedium parviflorum var. pubescens', 'Cypripedium reginae', 'Cypripedium flavum', 'Cypripedium passerinum', 'Mexipedium xerophyticum', 'Phragmipedium schlimii', 'Phragmipedium besseae', 'Phragmipedium wallisii', 'Phragmipedium exstaminodium', 'Phragmipedium caricinum', 'Phragmipedium pearcei', 'Phragmipedium longifolium', 'Phragmipedium lindenii', 'Phragmipedium lindleyanum', 'Phragmipedium sargentianum', 'Phragmipedium kaiteurum', 'Phragmipedium czerwiakowianum', 'Phragmipedium boissierianum', 'Phragmipedium caudatum', 'Phragmipedium warszewiczianum', 'Paphiopedilum micranthum', 'Paphiopedilum malipoense', 'Paphiopedilum delenatii', 'Paphiopedilum armeniacum', 'Paphiopedilum emersonii', 'Paphiopedilum niveum', 'Paphiopedilum godefroyae', 'Paphiopedilum bellatulum', 'Paphiopedilum concolor', 'Paphiopedilum fairrieanum', 'Paphiopedilum druryi', 'Paphiopedilum tigrinum', 'Paphiopedilum hirsutissimum', 'Paphiopedilum barbigerum', 'Paphiopedilum henryanum', 'Paphiopedilum charlesworthii', 'Paphiopedilum villosum', 'Paphiopedilum exul', 'Paphiopedilum insigne', 'Paphiopedilum gratrixianum', 'Paphiopedilum primulinum', 'Paphiopedilum victoria', 'Paphiopedilum victoria', 'Paphiopedilum glaucophyllum', 'Paphiopedilum supardii', 'Paphiopedilum kolopakingii', 'Paphiopedilum sanderianum', 'Paphiopedilum lowii', 'Paphiopedilum dianthum', 'Paphiopedilum parishii', 'Paphiopedilum haynaldianum', 'Paphiopedilum adductum', 'Paphiopedilum stonei', 'Paphiopedilum philippinense', 'Paphiopedilum rothschildianum', 'Paphiopedilum glanduliferum', 'Paphiopedilum glanduliferum', 'Paphiopedilum sukhakulii', 'Paphiopedilum wardii', 'Paphiopedilum ciliolare', 'Paphiopedilum dayanum', 'Paphiopedilum hennisianum', 'Paphiopedilum callosum', 'Paphiopedilum tonsum', 'Paphiopedilum javanicum', 'Paphiopedilum fowliei', 'Paphiopedilum schoseri', 'Paphiopedilum bougainvilleanum', 'Paphiopedilum hookerae', 'Paphiopedilum papuanum', 'Paphiopedilum mastersianum', 'Paphiopedilum argus', 'Paphiopedilum venustum', 'Paphiopedilum acmodontum', 'Paphiopedilum urbanianum', 'Paphiopedilum appletonianum', 'Paphiopedilum lawrenceanum', 'Paphiopedilum bullenianum', 'Paphiopedilum superbiens', 'Paphiopedilum purpuratum', 'Paphiopedilum barbatum']\n",
            "94\n"
          ],
          "name": "stdout"
        }
      ]
    },
    {
      "cell_type": "markdown",
      "metadata": {
        "id": "03SEpZV0uhjv"
      },
      "source": [
        "Conseguimos extrair essas informações facilmente porque os arquivos no formato GenBank possuem as anotações padronizadas. Mas isso não acontece com os arquivos FASTA. Repare abaixo que o nome da espécie está contido na descrição. Então temos que escrever um código se quisermos extrair apenas os nomes das espécies:"
      ]
    },
    {
      "cell_type": "code",
      "metadata": {
        "colab": {
          "base_uri": "https://localhost:8080/"
        },
        "id": "CVvOir8NuXbG",
        "outputId": "9f232a38-ebd4-4a9d-fc14-7059adde62a1"
      },
      "source": [
        "# FASTA\n",
        "first_record = next(SeqIO.parse(\"ls_orchid.fasta.txt\", \"fasta\"))\n",
        "print(first_record)"
      ],
      "execution_count": null,
      "outputs": [
        {
          "output_type": "stream",
          "text": [
            "ID: gi|2765658|emb|Z78533.1|CIZ78533\n",
            "Name: gi|2765658|emb|Z78533.1|CIZ78533\n",
            "Description: gi|2765658|emb|Z78533.1|CIZ78533 C.irapeanum 5.8S rRNA gene and ITS1 and ITS2 DNA\n",
            "Number of features: 0\n",
            "Seq('CGTAACAAGGTTTCCGTAGGTGAACCTGCGGAAGGATCATTGATGAGACCGTGG...CGC')\n"
          ],
          "name": "stdout"
        }
      ]
    },
    {
      "cell_type": "code",
      "metadata": {
        "colab": {
          "base_uri": "https://localhost:8080/"
        },
        "id": "Zye_KtNYwTi0",
        "outputId": "a971bb95-8bed-4a4f-a546-2a52bbffe53f"
      },
      "source": [
        "# nome da espécie está na descrição\n",
        "print(first_record.description)"
      ],
      "execution_count": null,
      "outputs": [
        {
          "output_type": "stream",
          "text": [
            "gi|2765658|emb|Z78533.1|CIZ78533 C.irapeanum 5.8S rRNA gene and ITS1 and ITS2 DNA\n"
          ],
          "name": "stdout"
        }
      ]
    },
    {
      "cell_type": "code",
      "metadata": {
        "colab": {
          "base_uri": "https://localhost:8080/"
        },
        "id": "Mk_Btv_RwZnC",
        "outputId": "6e517f70-8bca-4826-c3db-27f77c44ba3c"
      },
      "source": [
        "# pegar apenas o nome --> fazer um split() para separar cada palavra\n",
        "print(first_record.description.split())"
      ],
      "execution_count": null,
      "outputs": [
        {
          "output_type": "stream",
          "text": [
            "['gi|2765658|emb|Z78533.1|CIZ78533', 'C.irapeanum', '5.8S', 'rRNA', 'gene', 'and', 'ITS1', 'and', 'ITS2', 'DNA']\n"
          ],
          "name": "stdout"
        }
      ]
    },
    {
      "cell_type": "code",
      "metadata": {
        "colab": {
          "base_uri": "https://localhost:8080/"
        },
        "id": "Wcb4NMj_wkSX",
        "outputId": "f7428912-1a9b-4dc8-bb7a-f55e32675eb3"
      },
      "source": [
        "# o nome é o segundo elemento da lista\n",
        "print(first_record.description.split()[1])"
      ],
      "execution_count": null,
      "outputs": [
        {
          "output_type": "stream",
          "text": [
            "C.irapeanum\n"
          ],
          "name": "stdout"
        }
      ]
    },
    {
      "cell_type": "code",
      "metadata": {
        "id": "xArxO_JHvTzQ",
        "colab": {
          "base_uri": "https://localhost:8080/"
        },
        "outputId": "16e14002-6cdb-4e75-9d73-5283c7eec59b"
      },
      "source": [
        "# salvar as espécies em uma lista\n",
        "all_species = []\n",
        "for record in SeqIO.parse(\"ls_orchid.fasta.txt\", \"fasta\"):\n",
        "  name = record.description.split()[1]\n",
        "  all_species.append(name)\n",
        "\n",
        "print(all_species)\n",
        "print(len(all_species))"
      ],
      "execution_count": null,
      "outputs": [
        {
          "output_type": "stream",
          "text": [
            "['C.irapeanum', 'C.californicum', 'C.fasciculatum', 'C.margaritaceum', 'C.lichiangense', 'C.yatabeanum', 'C.guttatum', 'C.acaule', 'C.formosanum', 'C.himalaicum', 'C.macranthum', 'C.calceolus', 'C.segawai', 'C.pubescens', 'C.reginae', 'C.flavum', 'C.passerinum', 'M.xerophyticum', 'P.schlimii', 'P.besseae', 'P.wallisii', 'P.exstaminodium', 'P.caricinum', 'P.pearcei', 'P.longifolium', 'P.lindenii', 'P.lindleyanum', 'P.sargentianum', 'P.kaiteurum', 'P.czerwiakowianum', 'P.boissierianum', 'P.caudatum', 'P.warszewiczianum', 'P.micranthum', 'P.malipoense', 'P.delenatii', 'P.armeniacum', 'P.emersonii', 'P.niveum', 'P.godefroyae', 'P.bellatulum', 'P.concolor', 'P.fairrieanum', 'P.druryi', 'P.tigrinum', 'P.hirsutissimum', 'P.barbigerum', 'P.henryanum', 'P.charlesworthii', 'P.villosum', 'P.exul', 'P.insigne', 'P.gratrixianum', 'P.primulinum', 'P.victoria', 'P.victoria', 'P.glaucophyllum', 'P.supardii', 'P.kolopakingii', 'P.sanderianum', 'P.lowii', 'P.dianthum', 'P.parishii', 'P.haynaldianum', 'P.adductum', 'P.stonei', 'P.philippinense', 'P.rothschildianum', 'P.glanduliferum', 'P.glanduliferum', 'P.sukhakulii', 'P.wardii', 'P.ciliolare', 'P.dayanum', 'P.hennisianum', 'P.callosum', 'P.tonsum', 'P.javanicum', 'P.fowliei', 'P.schoseri', 'P.bougainvilleanum', 'P.hookerae', 'P.papuanum', 'P.mastersianum', 'P.argus', 'P.venustum', 'P.acmodontum', 'P.urbanianum', 'P.appletonianum', 'P.lawrenceanum', 'P.bullenianum', 'P.superbiens', 'P.purpuratum', 'P.barbatum']\n",
            "94\n"
          ],
          "name": "stdout"
        }
      ]
    },
    {
      "cell_type": "markdown",
      "metadata": {
        "id": "KqysCJsOw998"
      },
      "source": [
        "Em geral, extrair informações da descrição do FASTA não é muito agradável. Se você conseguir suas sequências em um formato de arquivo bem anotado como GenBank ou EMBL, então este tipo de informação de anotação será muito mais fácil de lidar."
      ]
    },
    {
      "cell_type": "markdown",
      "metadata": {
        "id": "FlmwU9_uyMMP"
      },
      "source": [
        "##<FONT COLOR=\"BLUE\">**5.1.5 MODIFICANDO DADOS**:"
      ]
    },
    {
      "cell_type": "code",
      "metadata": {
        "id": "w7OQ7FLAExRS"
      },
      "source": [
        "first_record = next(SeqIO.parse(\"ls_orchid.fasta.txt\", \"fasta\"))"
      ],
      "execution_count": null,
      "outputs": []
    },
    {
      "cell_type": "code",
      "metadata": {
        "colab": {
          "base_uri": "https://localhost:8080/",
          "height": 35
        },
        "id": "uhv4sta6wtUW",
        "outputId": "3fae13a2-4b8c-4d84-8c3d-4c820423e39a"
      },
      "source": [
        "# modificar o ID\n",
        "first_record.id"
      ],
      "execution_count": null,
      "outputs": [
        {
          "output_type": "execute_result",
          "data": {
            "application/vnd.google.colaboratory.intrinsic+json": {
              "type": "string"
            },
            "text/plain": [
              "'gi|2765658|emb|Z78533.1|CIZ78533'"
            ]
          },
          "metadata": {
            "tags": []
          },
          "execution_count": 52
        }
      ]
    },
    {
      "cell_type": "code",
      "metadata": {
        "colab": {
          "base_uri": "https://localhost:8080/",
          "height": 35
        },
        "id": "1UshDUgGGZQ7",
        "outputId": "f4a9034e-a0f8-4452-f50a-300aa43999f0"
      },
      "source": [
        "first_record.description"
      ],
      "execution_count": null,
      "outputs": [
        {
          "output_type": "execute_result",
          "data": {
            "application/vnd.google.colaboratory.intrinsic+json": {
              "type": "string"
            },
            "text/plain": [
              "'gi|2765658|emb|Z78533.1|CIZ78533 C.irapeanum 5.8S rRNA gene and ITS1 and ITS2 DNA'"
            ]
          },
          "metadata": {
            "tags": []
          },
          "execution_count": 53
        }
      ]
    },
    {
      "cell_type": "code",
      "metadata": {
        "colab": {
          "base_uri": "https://localhost:8080/"
        },
        "id": "1K7yKpHhyReO",
        "outputId": "816f835e-b7e3-450b-9a96-3bdcfae4847e"
      },
      "source": [
        "# modificar diretamente no atributo\n",
        "first_record.id = \"new_id\"\n",
        "print(first_record.id)"
      ],
      "execution_count": null,
      "outputs": [
        {
          "output_type": "stream",
          "text": [
            "new_id\n"
          ],
          "name": "stdout"
        }
      ]
    },
    {
      "cell_type": "code",
      "metadata": {
        "colab": {
          "base_uri": "https://localhost:8080/",
          "height": 35
        },
        "id": "DcT1fap9ydV-",
        "outputId": "6fc2b46b-639a-40e6-f7a4-891fa446d504"
      },
      "source": [
        "# alterar a descrição\n",
        "first_record.description"
      ],
      "execution_count": null,
      "outputs": [
        {
          "output_type": "execute_result",
          "data": {
            "application/vnd.google.colaboratory.intrinsic+json": {
              "type": "string"
            },
            "text/plain": [
              "'gi|2765658|emb|Z78533.1|CIZ78533 C.irapeanum 5.8S rRNA gene and ITS1 and ITS2 DNA'"
            ]
          },
          "metadata": {
            "tags": []
          },
          "execution_count": 39
        }
      ]
    },
    {
      "cell_type": "code",
      "metadata": {
        "colab": {
          "base_uri": "https://localhost:8080/"
        },
        "id": "Tl3XKZWEy0Ki",
        "outputId": "47c2310f-828c-4bcf-c953-356d18ae2a50"
      },
      "source": [
        "# não esquecer de colocar espaço entre o ID e a descrição\n",
        "first_record.description = first_record.id + \" \" + \"new_description_here\"\n",
        "print(first_record.description)"
      ],
      "execution_count": null,
      "outputs": [
        {
          "output_type": "stream",
          "text": [
            "new_id new_description_here\n"
          ],
          "name": "stdout"
        }
      ]
    },
    {
      "cell_type": "code",
      "metadata": {
        "colab": {
          "base_uri": "https://localhost:8080/"
        },
        "id": "9OIpSM7Y7lVb",
        "outputId": "281a5b12-79b5-4c2d-bc8a-40cd72fa1ef2"
      },
      "source": [
        "print(first_record.format(\"fasta\"))"
      ],
      "execution_count": null,
      "outputs": [
        {
          "output_type": "stream",
          "text": [
            ">new_id new_description_here\n",
            "CGTAACAAGGTTTCCGTAGGTGAACCTGCGGAAGGATCATTGATGAGACCGTGGAATAAA\n",
            "CGATCGAGTGAATCCGGAGGACCGGTGTACTCAGCTCACCGGGGGCATTGCTCCCGTGGT\n",
            "GACCCTGATTTGTTGTTGGGCCGCCTCGGGAGCGTCCATGGCGGGTTTGAACCTCTAGCC\n",
            "CGGCGCAGTTTGGGCGCCAAGCCATATGAAAGCATCACCGGCGAATGGCATTGTCTTCCC\n",
            "CAAAACCCGGAGCGGCGGCGTGCTGTCGCGTGCCCAATGAATTTTGATGACTCTCGCAAA\n",
            "CGGGAATCTTGGCTCTTTGCATCGGATGGAAGGACGCAGCGAAATGCGATAAGTGGTGTG\n",
            "AATTGCAAGATCCCGTGAACCATCGAGTCTTTTGAACGCAAGTTGCGCCCGAGGCCATCA\n",
            "GGCTAAGGGCACGCCTGCTTGGGCGTCGCGCTTCGTCTCTCTCCTGCCAATGCTTGCCCG\n",
            "GCATACAGCCAGGCCGGCGTGGTGCGGATGTGAAAGATTGGCCCCTTGTGCCTAGGTGCG\n",
            "GCGGGTCCAAGAGCTGGTGTTTTGATGGCCCGGAACCCGGCAAGAGGTGGACGGATGCTG\n",
            "GCAGCAGCTGCCGTGCGAATCCCCCATGTTGTCGTGCTTGTCGGACAGGCAGGAGAACCC\n",
            "TTCCGAACCCCAATGGAGGGCGGTTGACCGCCATTCGGATGTGACCCCAGGTCAGGCGGG\n",
            "GGCACCCGCTGAGTTTACGC\n",
            "\n"
          ],
          "name": "stdout"
        }
      ]
    },
    {
      "cell_type": "markdown",
      "metadata": {
        "id": "nG4zUy-QzQ2M"
      },
      "source": [
        "#<font color=\"blue\">**5.2  Parsing sequências de arquivos comprimidos/compactados**"
      ]
    },
    {
      "cell_type": "markdown",
      "metadata": {
        "id": "wnGTLp_28OXY"
      },
      "source": [
        "Resumindo, podemos ler os arquivos de 3 maneiras:"
      ]
    },
    {
      "cell_type": "code",
      "metadata": {
        "colab": {
          "base_uri": "https://localhost:8080/"
        },
        "id": "hPo1WMVk8N_d",
        "outputId": "bc60b316-f251-473d-9502-bf7964c84012"
      },
      "source": [
        "# passando apenas o nome do arquivo/caminho\n",
        "print(sum(len(r) for r in SeqIO.parse(\"ls_orchid.gbk.txt\", \"gb\")))\n",
        "print(sum(len(r) for r in SeqIO.parse(\"/content/ls_orchid.gbk.txt\", \"gb\")))"
      ],
      "execution_count": null,
      "outputs": [
        {
          "output_type": "stream",
          "text": [
            "67518\n",
            "67518\n"
          ],
          "name": "stdout"
        }
      ]
    },
    {
      "cell_type": "code",
      "metadata": {
        "colab": {
          "base_uri": "https://localhost:8080/"
        },
        "id": "jGTp0y_Y8geD",
        "outputId": "142f1774-e93a-43af-8022-a363a0e9b3ed"
      },
      "source": [
        "# com 'with'\n",
        "with open(\"ls_orchid.gbk.txt\") as handle:\n",
        "  print(sum(len(r) for r in SeqIO.parse(handle, \"gb\")))"
      ],
      "execution_count": null,
      "outputs": [
        {
          "output_type": "stream",
          "text": [
            "67518\n"
          ],
          "name": "stdout"
        }
      ]
    },
    {
      "cell_type": "code",
      "metadata": {
        "colab": {
          "base_uri": "https://localhost:8080/"
        },
        "id": "e3sx1JPY9L2v",
        "outputId": "995d2bdc-d08c-4e75-9946-d99cb5070874"
      },
      "source": [
        "# com 'open'\n",
        "handle = open(\"ls_orchid.gbk.txt\")\n",
        "\n",
        "print(sum(len(r) for r in SeqIO.parse(handle, \"gb\")))\n",
        "\n",
        "handle.close()"
      ],
      "execution_count": null,
      "outputs": [
        {
          "output_type": "stream",
          "text": [
            "67518\n"
          ],
          "name": "stdout"
        }
      ]
    },
    {
      "cell_type": "markdown",
      "metadata": {
        "id": "1EKsHn2oBake"
      },
      "source": [
        "Mas e se tivermos um arquivo compactado, como o formato **gzip**? Esse formato é bem comum em Linux. Existe uma variante gzip (GNU Zip) chamada BGZF (Blocked GNU Zip Format), que pode ser tratada como um arquivo gzip comum para leitura, mas tem vantagens para acesso aleatório posteriormente, que é abordado na\n",
        "Seção 5.4.4.\n",
        "\n",
        "Além do gzip, há também o formato **bz2**. \n",
        "\n",
        "Podemos usar Python para abrir esses tipos de arquivos:"
      ]
    },
    {
      "cell_type": "markdown",
      "metadata": {
        "id": "ZkU_QAhnBxe7"
      },
      "source": [
        "Download dos exemplos: https://github.com/biopython/biopython/tree/master/Doc/examples"
      ]
    },
    {
      "cell_type": "code",
      "metadata": {
        "id": "9dHbAnuS9X64"
      },
      "source": [
        "import gzip"
      ],
      "execution_count": null,
      "outputs": []
    },
    {
      "cell_type": "code",
      "metadata": {
        "id": "2mPEWd_UCtmN"
      },
      "source": [
        "with gzip.open(\"ls_orchid.gbk.gz\", \"rt\") as handle:\n",
        "  print(sum(len(r) for r in SeqIO.parse(handle, \"gb\")))"
      ],
      "execution_count": null,
      "outputs": []
    },
    {
      "cell_type": "code",
      "metadata": {
        "id": "oFLcWsGxCx6Z"
      },
      "source": [
        "import bz2"
      ],
      "execution_count": null,
      "outputs": []
    },
    {
      "cell_type": "code",
      "metadata": {
        "colab": {
          "base_uri": "https://localhost:8080/"
        },
        "id": "6G_Hp5QaDBxh",
        "outputId": "f386a906-3251-40fc-d8ef-af718c2da3c5"
      },
      "source": [
        "with bz2.open(\"ls_orchid.gbk.bz2\", \"rt\") as handle:\n",
        "  print(sum(len(r) for r in SeqIO.parse(handle, \"gb\")))"
      ],
      "execution_count": null,
      "outputs": [
        {
          "output_type": "stream",
          "text": [
            "67518\n"
          ],
          "name": "stdout"
        }
      ]
    },
    {
      "cell_type": "markdown",
      "metadata": {
        "id": "CJSXnmi_LlUd"
      },
      "source": [
        "#<font color=\"blue\">**5.3  Parsing sequências da rede**"
      ]
    },
    {
      "cell_type": "markdown",
      "metadata": {
        "id": "QnMyKqmILv6z"
      },
      "source": [
        "Nas seções anteriores, vimos como analisar dados de sequência de um arquivo (usando o nome/caminho do arquivo ou o handle) e\n",
        "de arquivos compactados (usando um handle). Aqui, usaremos Bio.SeqIO com outro tipo de handle, uma conexão de rede, para baixar e analisar sequências da Internet.\n",
        "\n",
        "Observe que só porque você pode baixar dados de sequência e analisá-los em um objeto SeqRecord de uma só vez\n",
        "não significa que seja uma boa ideia. Em geral, você provavelmente deve baixar as sequências uma vez e salvá-las\n",
        "em um arquivo para reutilização."
      ]
    },
    {
      "cell_type": "markdown",
      "metadata": {
        "id": "Ce0sx5mmMYRF"
      },
      "source": [
        "##<FONT COLOR=\"BLUE\">**5.3.1 PARSING REGISTROS GENBANK DA REDE**:"
      ]
    },
    {
      "cell_type": "markdown",
      "metadata": {
        "id": "_j9kCq6YMwi9"
      },
      "source": [
        "A seção 9.6 fala sobre a interface Entrez EFetch em mais detalhes, mas por enquanto vamos apenas conectar ao\n",
        "NCBI e obter algumas sequências de *Opuntia* (prickly-pear) do GenBank usando seus números GI.\n",
        "\n",
        "Em primeiro lugar, vamos buscar **(fetch)** apenas um registro. Se você não precisa das anotações e recursos,\n",
        "um arquivo FASTA é uma boa escolha, pois são compactos. Agora lembre-se, quando você espera que o **loop for** contenha\n",
        "apenas um registro, use a função SeqIO.read():"
      ]
    },
    {
      "cell_type": "code",
      "metadata": {
        "id": "uQeB9Zt1DFrz"
      },
      "source": [
        "from Bio import Entrez"
      ],
      "execution_count": null,
      "outputs": []
    },
    {
      "cell_type": "code",
      "metadata": {
        "colab": {
          "base_uri": "https://localhost:8080/"
        },
        "id": "9lvLRfm-NU6t",
        "outputId": "1de5c258-b69a-4e6c-d01b-22cc3a64e6d1"
      },
      "source": [
        "# FASTA - 1 registro\n",
        "Entrez.email = \"vanleiko25@gmail.com\"\n",
        "\n",
        "with Entrez.efetch(db=\"nucleotide\", rettype=\"fasta\", retmode=\"text\", id=\"6273291\") as handle:\n",
        "  record = SeqIO.read(handle, \"fasta\")\n",
        "\n",
        "print(f\"ID: {record.id}, Features: {len(record.features)}\")"
      ],
      "execution_count": null,
      "outputs": [
        {
          "output_type": "stream",
          "text": [
            "ID: AF191665.1, Features: 0\n"
          ],
          "name": "stdout"
        }
      ]
    },
    {
      "cell_type": "code",
      "metadata": {
        "colab": {
          "base_uri": "https://localhost:8080/"
        },
        "id": "XzrPkl3iN8lN",
        "outputId": "f730db48-673c-4c01-d537-acd36a38d60a"
      },
      "source": [
        "# GeNBANK - 1 registro\n",
        "Entrez.email =  \"vanleiko25@gmail.com\"\n",
        "\n",
        "with Entrez.efetch(db=\"nucleotide\", rettype=\"gb\", retmode=\"text\", id=\"6273291\") as handle:\n",
        "  record = SeqIO.read(handle, \"gb\") # usar \"gb\" como apelido para \"genbank\"\n",
        "print(f\"ID: {record.id}, Features: {len(record.features)}\")\n"
      ],
      "execution_count": null,
      "outputs": [
        {
          "output_type": "stream",
          "text": [
            "ID: AF191665.1, Features: 3\n"
          ],
          "name": "stdout"
        }
      ]
    },
    {
      "cell_type": "code",
      "metadata": {
        "colab": {
          "base_uri": "https://localhost:8080/"
        },
        "id": "DDBYpH3GNm50",
        "outputId": "445fb1f7-dddd-41a1-88c8-ffef2be79f64"
      },
      "source": [
        "# GeNBANK - 2 ou + registros\n",
        "Entrez.email =  \"vanleiko25@gmail.com\"\n",
        "\n",
        "with Entrez.efetch(db=\"nucleotide\", rettype=\"gb\", retmode=\"text\", id=\"6273291, 6273290, 6273289\") as handle:\n",
        "  for record in SeqIO.parse(handle, \"gb\"):\n",
        "    print(record.id, record.description[:50], \"...\")\n",
        "    print(f\"\"\"Tamanho da sequência: {len(record.seq)}, Features: {len(record.features)}, \n",
        "    Fonte: {record.annotations[\"source\"]}\\n\"\"\")"
      ],
      "execution_count": null,
      "outputs": [
        {
          "output_type": "stream",
          "text": [
            "AF191665.1 Opuntia marenae rpl16 gene; chloroplast gene for c ...\n",
            "Tamanho da sequência: 902, Features: 3, \n",
            "    Fonte: chloroplast Grusonia marenae\n",
            "\n",
            "AF191664.1 Opuntia clavata rpl16 gene; chloroplast gene for c ...\n",
            "Tamanho da sequência: 899, Features: 3, \n",
            "    Fonte: chloroplast Grusonia clavata\n",
            "\n",
            "AF191663.1 Opuntia bradtiana rpl16 gene; chloroplast gene for ...\n",
            "Tamanho da sequência: 899, Features: 3, \n",
            "    Fonte: chloroplast Grusonia bradtiana\n",
            "\n"
          ],
          "name": "stdout"
        }
      ]
    },
    {
      "cell_type": "markdown",
      "metadata": {
        "id": "UQGvv0v3P6IN"
      },
      "source": [
        "##<FONT COLOR=\"BLUE\">**5.3.2 PARSING REGISTROS SWISSPROT DA REDE**:"
      ]
    },
    {
      "cell_type": "markdown",
      "metadata": {
        "id": "qt03d8UtQEoJ"
      },
      "source": [
        "Agora vamos usar um handle para baixar um arquivo SwissProt do ExPASy, algo abordado com mais detalhes no Capítulo 10.\n",
        " Como mencionado acima, quando você espera que o identificador contenha apenas um registro, use a função SeqIO.read():"
      ]
    },
    {
      "cell_type": "code",
      "metadata": {
        "id": "kG1VHkGNP8Qd"
      },
      "source": [
        "from Bio import ExPASy"
      ],
      "execution_count": null,
      "outputs": []
    },
    {
      "cell_type": "code",
      "metadata": {
        "colab": {
          "base_uri": "https://localhost:8080/"
        },
        "id": "qxW3Jg1nQPGR",
        "outputId": "f89c3cf0-3e05-482c-c4a9-14af6433de75"
      },
      "source": [
        "with ExPASy.get_sprot_raw(\"O23729\") as handle:\n",
        "  record = SeqIO.read(handle, \"swiss\")\n",
        "  print(record.id)\n",
        "  print(record.name)\n",
        "  print(record.description)\n",
        "  print(repr(record.seq))\n",
        "  print(f\"Tamanho: {len(record.seq)}\")\n",
        "  print(record.annotations[\"keywords\"])"
      ],
      "execution_count": null,
      "outputs": [
        {
          "output_type": "stream",
          "text": [
            "O23729\n",
            "CHS3_BROFI\n",
            "RecName: Full=Chalcone synthase 3; EC=2.3.1.74; AltName: Full=Naringenin-chalcone synthase 3;\n",
            "Seq('MAPAMEEIRQAQRAEGPAAVLAIGTSTPPNALYQADYPDYYFRITKSEHLTELK...GAE')\n",
            "Tamanho: 394\n",
            "['Acyltransferase', 'Flavonoid biosynthesis', 'Transferase']\n"
          ],
          "name": "stdout"
        }
      ]
    },
    {
      "cell_type": "markdown",
      "metadata": {
        "id": "GYmPcCDL0R59"
      },
      "source": [
        "#<font color=\"purple\">**EXTRA: ler arquivo do GitHub:**"
      ]
    },
    {
      "cell_type": "markdown",
      "metadata": {
        "id": "Xnx9zvq0fBDR"
      },
      "source": [
        "\n",
        "\n",
        "Link: https://github.com/biopython/biopython/blob/master/Doc/examples/ls_orchid.fasta\n",
        "\n",
        "(copiar o link Raw do exemplo desejado)\n",
        "\n"
      ]
    },
    {
      "cell_type": "code",
      "metadata": {
        "id": "PoPBlqxRhpK8"
      },
      "source": [
        "# Para ler links da web, temos que importar o 'requests'\n",
        "import requests\n",
        "\n",
        "# Para transformar os registros do arquivo em objeto, utilizamos StringIO\n",
        "from io import StringIO"
      ],
      "execution_count": null,
      "outputs": []
    },
    {
      "cell_type": "code",
      "metadata": {
        "colab": {
          "base_uri": "https://localhost:8080/"
        },
        "id": "cPGyDWiegRwO",
        "outputId": "2f499847-65fd-4b9e-fe1c-6dbb55a861f4"
      },
      "source": [
        "# passar o link raw \n",
        "link = \"https://raw.githubusercontent.com/biopython/biopython/master/Doc/examples/ls_orchid.fasta\"\n",
        "leitura = requests.get(link).text\n",
        "handle = StringIO(leitura)\n",
        "\n",
        "record = next(SeqIO.parse(handle, \"fasta\"))\n",
        "print(f\"ID: {record.id}    Tamanho: {len(record.seq)} nt\")"
      ],
      "execution_count": null,
      "outputs": [
        {
          "output_type": "stream",
          "text": [
            "ID: gi|2765658|emb|Z78533.1|CIZ78533    Tamanho: 740 nt\n"
          ],
          "name": "stdout"
        }
      ]
    }
  ]
}